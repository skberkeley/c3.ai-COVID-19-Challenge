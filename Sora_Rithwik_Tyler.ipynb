{
  "nbformat": 4,
  "nbformat_minor": 0,
  "metadata": {
    "colab": {
      "name": "Sora_Rithwik_Tyler.ipynb",
      "provenance": [],
      "private_outputs": true,
      "collapsed_sections": [],
      "toc_visible": true
    },
    "kernelspec": {
      "name": "python3",
      "display_name": "Python 3"
    }
  },
  "cells": [
    {
      "cell_type": "code",
      "metadata": {
        "id": "6FNqVPqZor8O"
      },
      "source": [
        "import requests\n",
        "import pandas as pd\n",
        "from matplotlib import pyplot as plt\n",
        "from scipy.stats import gamma\n",
        "import numpy as np"
      ],
      "execution_count": null,
      "outputs": []
    },
    {
      "cell_type": "code",
      "metadata": {
        "id": "8z8XncOB42tx"
      },
      "source": [
        ""
      ],
      "execution_count": null,
      "outputs": []
    },
    {
      "cell_type": "markdown",
      "metadata": {
        "id": "T2Zouv-gyEVZ"
      },
      "source": [
        "##DON'T CHANGE:"
      ]
    },
    {
      "cell_type": "code",
      "metadata": {
        "id": "eC5ux7Y0yAkW"
      },
      "source": [
        "from google.colab import drive\n",
        "drive.mount('/content/drive/')\n",
        "import sys\n",
        "sys.path.append('/content/drive/My Drive/C3.ai COVID Challenge')\n",
        "import c3aidatalake"
      ],
      "execution_count": null,
      "outputs": []
    },
    {
      "cell_type": "markdown",
      "metadata": {
        "id": "8ol1gLjTo2OY"
      },
      "source": [
        "###Todo (by 11/3):\n",
        "- Quantify government policy categories (LocationPolicySummary)\n",
        "    - Bigger values for more restrictive policies\n",
        "- Convert economic data to usable format\n",
        "- Produce/visualize distributions and general statistics for data\n",
        "    - Visualize dates of latest policies for states\n"
      ]
    },
    {
      "cell_type": "code",
      "metadata": {
        "id": "Dy6zIMzOS_bR"
      },
      "source": [
        "policies = c3aidatalake.fetch(\n",
        "    \"locationpolicysummary\", \n",
        "    {\n",
        "        \"spec\" : {\n",
        "            \"limit\" : -1\n",
        "        }\n",
        "    })"
      ],
      "execution_count": null,
      "outputs": []
    },
    {
      "cell_type": "code",
      "metadata": {
        "id": "LxFQ3qVQPhQe"
      },
      "source": [
        "def printColValCounts(df, colName):\n",
        "    print(\"Column Name: \" + colName)\n",
        "    print(df[colName].value_counts())"
      ],
      "execution_count": null,
      "outputs": []
    },
    {
      "cell_type": "code",
      "metadata": {
        "id": "X8FzasrVISoO"
      },
      "source": [
        "statePolicies = policies.drop(44)\n",
        "statePolicies.columns"
      ],
      "execution_count": null,
      "outputs": []
    },
    {
      "cell_type": "markdown",
      "metadata": {
        "id": "Ilwd4NZ3UiZF"
      },
      "source": [
        "Generating numerical columns from statePolicies:"
      ]
    },
    {
      "cell_type": "markdown",
      "metadata": {
        "id": "tIX17nMTwsCw"
      },
      "source": [
        "Sora's Dictionaries:\n",
        "'mandatoryQuarantine',\n",
        "       'nonEssentialBusiness', 'largeGatherings', 'schoolClosure',\n",
        "       'restaurantLimit', 'barClosures', 'faceCoveringRequirement',\n",
        "       'PrimaryElectionPostponement', 'emergencyDeclaration',\n"
      ]
    },
    {
      "cell_type": "code",
      "metadata": {
        "id": "ZMR1jSGRUz4w"
      },
      "source": [
        "quantifyDicts = {}\n",
        "quantifyDicts[\"easingOrder\"] = {\n",
        "    \"Reopened\" : 0, \n",
        "    \"Proceeding with Reopening\" : 1,\n",
        "    \"Paused\" : 2, \n",
        "    \"New Restrictions Imposed\" : 3\n",
        "}\n",
        "quantifyDicts[\"stayAtHome\"] = {\n",
        "    \"No Action\" : 0,\n",
        "    \"Lifted\" : 0,\n",
        "    \"Rolled Back to High Risk Groups\" : 1,\n",
        "    \"New Stay at Home Order\" : 2,\n",
        "    \"Statewide\" : 2\n",
        "}\n",
        "quantifyDicts[\"mandatoryQuarantine\"]  = {\n",
        "    \"No Action\" : 0,\n",
        "    \"Lifted\" : 0,\n",
        "    \"From Certain States (New)\" : 1,\n",
        "    \"Rolled Back to Certain States\" : 1,\n",
        "    \"From Certain States\" : 1,\n",
        "    \"Rolled Back to International Travel\" : 2,\n",
        "    \"All Travelers\" : 3\n",
        "}\n",
        "quantifyDicts[\"nonEssentialBusiness\"] = {\n",
        "    \"No Action\" : 0,\n",
        "    \"All Non-Essential Businesses Permitted to Reopen\" : 0,\n",
        "    \"Some Non-Essential Businesses Permitted to Reopen\" : 1,\n",
        "    \"All Non-Essential Businesses Permitted to Reopen with Reduced Capacity\" : 1,\n",
        "    \"Some Non-Essential Businesses Permitted to Reopen with Reduced Capacity\" : 2,\n",
        "    \"New Business Closures or Limits\" : 3\n",
        "}\n",
        "quantifyDicts[\"largeGatherings\"] = {\n",
        "    \"Lifted\" : 0,\n",
        "    \"No Action\" : 0,\n",
        "    \"Expanded to New Limit Above 25\" : 1,\n",
        "    \"New Limit on Large Gatherings in Place\" : 1,\n",
        "    \"Expanded to New Limit of 25 or Fewer\" : 2,\n",
        "    \">10 People Prohibited\" : 3,\n",
        "    \"All Gatherings Prohibited\" : 4\n",
        "}\n",
        "quantifyDicts[\"schoolClosure\"] = {\n",
        "    \"Rescinded\" : 0,\n",
        "    \"Recommended Closure for School Year\" : 1,\n",
        "    \"Recommended Closure\" : 2,\n",
        "    \"Closed for School Year\" : 3,\n",
        "    \"Closed\" : 4\n",
        "}\n",
        "quantifyDicts[\"restaurantLimit\"] = {\n",
        "    \"No Action\" : 0,\n",
        "    \"Reopened to Dine-in Service\" : 1,\n",
        "    \"Reopened to Dine-in Service with Capacity Limits\" : 2,\n",
        "    \"New Service Limits\" : 3,\n",
        "    \"Newly Closed to Dine-in Service\" : 3\n",
        "}\n",
        "quantifyDicts[\"barClosures\"] = {\n",
        "    \"Reopened\" : 0,\n",
        "    \"New Service Limits\" : 1,\n",
        "    \"Closed\" : 2,\n",
        "    \"Newly Closed\" : 2\n",
        "}\n",
        "quantifyDicts[\"faceCoveringRequirement\"] = {\n",
        "    \"No\" : 0,\n",
        "    \"Required for Certain Employees\" : 1,\n",
        "    \"Allows Local Officals to Require for General Public\" : 1,\n",
        "    \"Required for Certain Employees; Allows Local Officials to Require for General Public\" : 1,\n",
        "    \"Required for General Public\" : 2\n",
        "}\n",
        "quantifyDicts[\"PrimaryElectionPostponement\"] = {\n",
        "    \"No\" : 0,\n",
        "    \"Postponed\" : 1,\n",
        "    \"Canceled\" : 2\n",
        "}\n",
        "quantifyDicts[\"emergencyDeclaration\"] = {\n",
        "    \"Yes\" : 0\n",
        "}"
      ],
      "execution_count": null,
      "outputs": []
    },
    {
      "cell_type": "code",
      "metadata": {
        "id": "S64Eg_rJ3l0R"
      },
      "source": [
        "def mapperGenerator(colName):\n",
        "    def mapper(val):\n",
        "        return quantifyDicts[colName][val]\n",
        "    return mapper"
      ],
      "execution_count": null,
      "outputs": []
    }
  ]
}