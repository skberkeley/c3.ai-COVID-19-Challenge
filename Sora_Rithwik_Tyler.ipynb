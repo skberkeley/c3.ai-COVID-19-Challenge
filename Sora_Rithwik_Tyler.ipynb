{
  "nbformat": 4,
  "nbformat_minor": 0,
  "metadata": {
    "colab": {
      "name": "Sora Rithwik Tyler.ipynb",
      "provenance": [],
      "private_outputs": true,
      "collapsed_sections": [],
      "toc_visible": true,
      "include_colab_link": true
    },
    "kernelspec": {
      "name": "python3",
      "display_name": "Python 3"
    }
  },
  "cells": [
    {
      "cell_type": "markdown",
      "metadata": {
        "id": "view-in-github",
        "colab_type": "text"
      },
      "source": [
        "<a href=\"https://colab.research.google.com/github/skberkeley/c3.ai-COVID-19-Challenge/blob/main/Sora_Rithwik_Tyler.ipynb\" target=\"_parent\"><img src=\"https://colab.research.google.com/assets/colab-badge.svg\" alt=\"Open In Colab\"/></a>"
      ]
    },
    {
      "cell_type": "code",
      "metadata": {
        "id": "6FNqVPqZor8O"
      },
      "source": [
        "import requests\n",
        "import pandas as pd\n",
        "from matplotlib import pyplot as plt\n",
        "from scipy.stats import gamma\n",
        "import numpy as np"
      ],
      "execution_count": 1,
      "outputs": []
    },
    {
      "cell_type": "markdown",
      "metadata": {
        "id": "T2Zouv-gyEVZ"
      },
      "source": [
        "##DON'T CHANGE:"
      ]
    },
    {
      "cell_type": "code",
      "metadata": {
        "id": "eC5ux7Y0yAkW",
        "outputId": "c58e16c7-ac0a-45d7-a6c6-1cf70cb81649",
        "colab": {
          "base_uri": "https://localhost:8080/"
        }
      },
      "source": [
        "from google.colab import drive\n",
        "drive.mount('/content/drive/')\n",
        "import sys\n",
        "sys.path.append('/content/drive/My Drive/C3.ai COVID Challenge')\n",
        "import c3aidatalake"
      ],
      "execution_count": 2,
      "outputs": [
        {
          "output_type": "stream",
          "text": [
            "Mounted at /content/drive/\n"
          ],
          "name": "stdout"
        }
      ]
    },
    {
      "cell_type": "markdown",
      "metadata": {
        "id": "8ol1gLjTo2OY"
      },
      "source": [
        "###Todo (by 11/3):\n",
        "- Quantify government policy categories (LocationPolicySummary)\n",
        "    - Bigger values for more restrictive policies\n",
        "- Convert economic data to usable format\n",
        "- Produce/visualize distributions and general statistics for data\n"
      ]
    },
    {
      "cell_type": "code",
      "metadata": {
        "id": "Dy6zIMzOS_bR"
      },
      "source": [
        "policies = c3aidatalake.fetch(\n",
        "    \"locationpolicysummary\", \n",
        "    {\n",
        "        \"spec\" : {\n",
        "            \"limit\" : -1\n",
        "        }\n",
        "    })"
      ],
      "execution_count": 3,
      "outputs": []
    },
    {
      "cell_type": "code",
      "metadata": {
        "id": "LxFQ3qVQPhQe"
      },
      "source": [
        "def printColValCounts(df, colName):\n",
        "    print(\"Column Name: \" + colName)\n",
        "    print(df[colName].value_counts())"
      ],
      "execution_count": null,
      "outputs": []
    },
    {
      "cell_type": "code",
      "metadata": {
        "id": "X8FzasrVISoO",
        "outputId": "96d0b6ff-ebed-492b-ea6e-ceb631581be3",
        "colab": {
          "base_uri": "https://localhost:8080/"
        }
      },
      "source": [
        "statePolicies = policies.drop(44)\n",
        "statePolicies.columns"
      ],
      "execution_count": 5,
      "outputs": [
        {
          "output_type": "execute_result",
          "data": {
            "text/plain": [
              "Index(['easingOrder', 'stayAtHome', 'mandatoryQuarantine',\n",
              "       'nonEssentialBusiness', 'largeGatherings', 'schoolClosure',\n",
              "       'restaurantLimit', 'barClosures', 'faceCoveringRequirement',\n",
              "       'PrimaryElectionPostponement', 'emergencyDeclaration',\n",
              "       'waiveTreatmentCost', 'freeVaccine',\n",
              "       'waiverOfPriorAuthorizationRequirements', 'prescriptionRefill',\n",
              "       'premiumPaymentGracePeriod', 'marketplaceSpecialEnrollmentPeriod',\n",
              "       'section1135Waiver', 'paidSickLeaves',\n",
              "       'expandsAccesstoTelehealthServices', 'id', 'lastSavedTimestamp',\n",
              "       'numSavedVersions', 'savedVersion', 'location.id'],\n",
              "      dtype='object')"
            ]
          },
          "metadata": {
            "tags": []
          },
          "execution_count": 5
        }
      ]
    },
    {
      "cell_type": "markdown",
      "metadata": {
        "id": "Ilwd4NZ3UiZF"
      },
      "source": [
        "Generating numerical columns from statePolicies:"
      ]
    },
    {
      "cell_type": "code",
      "metadata": {
        "id": "wlAzCZVfSMjM"
      },
      "source": [
        "printColValCounts(statePolicies, \"mandatoryQuarantine\")"
      ],
      "execution_count": null,
      "outputs": []
    },
    {
      "cell_type": "code",
      "metadata": {
        "id": "ZMR1jSGRUz4w"
      },
      "source": [
        "quantifyDicts = {}\n",
        "quantifyDicts[\"easingOrder\"] = {\n",
        "    \"Reopened\" : 0, \n",
        "    \"Proceeding with Reopening\" : 1,\n",
        "    \"Paused\" : 2, \n",
        "    \"New Restrictions Imposed\" : 3\n",
        "}\n",
        "quantifyDicts[\"stayAtHome\"] = {\n",
        "    \"No Action\" : 0,\n",
        "    \"Lifted\" : 1,\n",
        "    \"Rolled Back to High Risk Groups\" : 2,\n",
        "    \"New Stay at Home Order\" : 3,\n",
        "    \"Statewide\" : 4\n",
        "}\n",
        "quantifyDicts[\"mandatoryQuarantine\"]  = {\n",
        "    \n",
        "}  "
      ],
      "execution_count": null,
      "outputs": []
    },
    {
      "cell_type": "code",
      "metadata": {
        "id": "XWcI0PbYkNDA"
      },
      "source": [
        "def applyDict(val, colName, refDict):\n",
        "    "
      ],
      "execution_count": null,
      "outputs": []
    }
  ]
}