{
 "cells": [
  {
   "cell_type": "code",
   "execution_count": 1,
   "metadata": {
    "id": "6FNqVPqZor8O"
   },
   "outputs": [],
   "source": [
    "import requests\n",
    "import pandas as pd\n",
    "from matplotlib import pyplot as plt\n",
    "from scipy.stats import gamma\n",
    "from sklearn import linear_model\n",
    "import numpy as np\n",
    "from datetime import datetime\n",
    "import math"
   ]
  },
  {
   "cell_type": "code",
   "execution_count": 2,
   "metadata": {
    "id": "8z8XncOB42tx"
   },
   "outputs": [],
   "source": [
    "import c3aidatalake"
   ]
  },
  {
   "cell_type": "code",
   "execution_count": 3,
   "metadata": {},
   "outputs": [],
   "source": [
    "# Returns datetime object of the given date string\n",
    "# Compare dates with >, <, or ==\n",
    "def timeFormat(s):\n",
    "    if str(s) == \"nan\":\n",
    "        return s\n",
    "    else:\n",
    "        return datetime.strptime(s, \"%Y-%m-%dT%H:%M:%SZ\")\n",
    "\n",
    "# Returns float timestamp (seconds since 1 Jan 1970)\n",
    "# Compare timestamps with >, <, or ==\n",
    "def timestampFormat(s):\n",
    "    if str(s) == \"nan\":\n",
    "        return s\n",
    "    else:\n",
    "        return timeFormat(s).timestamp()\n",
    "\n",
    "# How to convert column of date strings to these above formats:\n",
    "# DFtimeFormat(dataframe name, string of column header which contains the time strings)\n",
    "def DFtimeFormat(df, column_of_timestrings):\n",
    "    df[column_of_timestrings] = df[column_of_timestrings].apply(timeFormat)\n",
    "    return"
   ]
  },
  {
   "cell_type": "code",
   "execution_count": 4,
   "metadata": {},
   "outputs": [
    {
     "data": {
      "text/plain": [
       "[False, False, True, False, True, False]"
      ]
     },
     "execution_count": 4,
     "metadata": {},
     "output_type": "execute_result"
    }
   ],
   "source": [
    "# returns true if date2 comes after date1\n",
    "def after(date1, date2):\n",
    "    return True if date2>date1 else False\n",
    "\n",
    "statemaskdates = {\"California\": 1, \"Texas\": 2, \"NorthCarolina\": 1.5} # for testing\n",
    "surveystates = [\"California\",\"California\",\"California\", \"Texas\", \"NorthCarolina\", \"NorthCarolina\"] # for testing\n",
    "surveydates = [0, 1, 2, 1.9, 2, 1.4] # for testing\n",
    "\n",
    "# Pass in the dates for mask/stay-home order as STATEDATES, \n",
    "# the location column of surveydata as SURVEYSTATES and\n",
    "# the starttime column of surveydata as SURVEYDATES\n",
    "# returns a column AFTERS that you can directly append to your dataframe\n",
    "def surveyAfterRule(statedates, surveystates, surveydates):\n",
    "    afters = []\n",
    "    for i in range(len(surveystates)):\n",
    "        afters += [after(statedates[surveystates[i]], surveydates[i])]\n",
    "    return afters\n",
    "\n",
    "surveyAfterRule(statemaskdates, surveystates, surveydates) # for testing\n",
    "        "
   ]
  },
  {
   "cell_type": "markdown",
   "metadata": {
    "id": "8ol1gLjTo2OY"
   },
   "source": [
    "###Todo (by 11/3):\n",
    "- Quantify government policy categories (LocationPolicySummary)\n",
    "    - Bigger values for more restrictive policies\n",
    "- Convert economic data to usable format\n",
    "- Produce/visualize distributions and general statistics for data\n",
    "    - Visualize dates of latest policies for states\n"
   ]
  },
  {
   "cell_type": "code",
   "execution_count": 5,
   "metadata": {
    "id": "Dy6zIMzOS_bR"
   },
   "outputs": [],
   "source": [
    "policies = c3aidatalake.fetch(\n",
    "    \"locationpolicysummary\", \n",
    "    {\n",
    "        \"spec\" : {\n",
    "            \"limit\" : -1\n",
    "        }\n",
    "    })"
   ]
  },
  {
   "cell_type": "markdown",
   "metadata": {
    "id": "Ilwd4NZ3UiZF"
   },
   "source": [
    "Generating numerical columns from statePolicies:"
   ]
  },
  {
   "cell_type": "markdown",
   "metadata": {
    "id": "tIX17nMTwsCw"
   },
   "source": [
    "Sora's Dictionaries:\n",
    "'mandatoryQuarantine',\n",
    "       'nonEssentialBusiness', 'largeGatherings', 'schoolClosure',\n",
    "       'restaurantLimit', 'barClosures', 'faceCoveringRequirement',\n",
    "       'PrimaryElectionPostponement', 'emergencyDeclaration',\n"
   ]
  },
  {
   "cell_type": "code",
   "execution_count": 6,
   "metadata": {
    "id": "ZMR1jSGRUz4w"
   },
   "outputs": [],
   "source": [
    "{\n",
    "    \"tags\": [\n",
    "        \"hide-input\",\n",
    "    ]\n",
    "}\n",
    "quantifyDicts = {}\n",
    "quantifyDicts[\"easingOrder\"] = {\n",
    "    \"Reopened\" : 0, \n",
    "    \"Proceeding with Reopening\" : 1,\n",
    "    \"Paused\" : 2, \n",
    "    \"New Restrictions Imposed\" : 3\n",
    "}\n",
    "quantifyDicts[\"stayAtHome\"] = {\n",
    "    \"No Action\" : 0,\n",
    "    \"Lifted\" : 0,\n",
    "    \"Rolled Back to High Risk Groups\" : 1,\n",
    "    \"New Stay at Home Order\" : 2,\n",
    "    \"Statewide\" : 2\n",
    "}\n",
    "quantifyDicts[\"mandatoryQuarantine\"]  = {\n",
    "    \"No Action\" : 0,\n",
    "    \"Lifted\" : 0,\n",
    "    \"From Certain States (New)\" : 1,\n",
    "    \"Rolled Back to Certain States\" : 1,\n",
    "    \"From Certain States\" : 1,\n",
    "    \"Rolled Back to International Travel\" : 2,\n",
    "    \"All Travelers\" : 3\n",
    "}\n",
    "quantifyDicts[\"nonEssentialBusiness\"] = {\n",
    "    \"No Action\" : 0,\n",
    "    \"All Non-Essential Businesses Permitted to Reopen\" : 0,\n",
    "    \"Some Non-Essential Businesses Permitted to Reopen\" : 1,\n",
    "    \"All Non-Essential Businesses Permitted to Reopen with Reduced Capacity\" : 1,\n",
    "    \"Some Non-Essential Businesses Permitted to Reopen with Reduced Capacity\" : 2,\n",
    "    \"New Business Closures or Limits\" : 3\n",
    "}\n",
    "quantifyDicts[\"largeGatherings\"] = {\n",
    "    \"Lifted\" : 0,\n",
    "    \"No Action\" : 0,\n",
    "    \"Expanded to New Limit Above 25\" : 1,\n",
    "    \"New Limit on Large Gatherings in Place\" : 1,\n",
    "    \"Expanded to New Limit of 25 or Fewer\" : 2,\n",
    "    \">10 People Prohibited\" : 3,\n",
    "    \"All Gatherings Prohibited\" : 4\n",
    "}\n",
    "quantifyDicts[\"schoolClosure\"] = {\n",
    "    \"Rescinded\" : 0,\n",
    "    \"Recommended Closure for School Year\" : 1,\n",
    "    \"Recommended Closure\" : 2,\n",
    "    \"Closed for School Year\" : 3,\n",
    "    \"Closed\" : 4\n",
    "}\n",
    "quantifyDicts[\"restaurantLimit\"] = {\n",
    "    \"No Action\" : 0,\n",
    "    \"Reopened to Dine-in Service\" : 1,\n",
    "    \"Reopened to Dine-in Service with Capacity Limits\" : 2,\n",
    "    \"New Service Limits\" : 3,\n",
    "    \"Newly Closed to Dine-in Service\" : 3\n",
    "}\n",
    "quantifyDicts[\"barClosures\"] = {\n",
    "    \"Reopened\" : 0,\n",
    "    \"New Service Limits\" : 1,\n",
    "    \"Closed\" : 2,\n",
    "    \"Newly Closed\" : 2\n",
    "}\n",
    "quantifyDicts[\"faceCoveringRequirement\"] = {\n",
    "    \"No\" : 0,\n",
    "    \"Required for Certain Employees\" : 1,\n",
    "    \"Allows Local Officals to Require for General Public\" : 1,\n",
    "    \"Required for Certain Employees; Allows Local Officials to Require for General Public\" : 1,\n",
    "    \"Required for General Public\" : 2\n",
    "}\n",
    "quantifyDicts[\"PrimaryElectionPostponement\"] = {\n",
    "    \"No\" : 0,\n",
    "    \"Postponed\" : 1,\n",
    "    \"Canceled\" : 2\n",
    "}\n",
    "quantifyDicts[\"emergencyDeclaration\"] = {\n",
    "    \"Yes\" : 0\n",
    "}\n",
    "quantifyDicts[\"waiveTreatmentCost\"]  = {\n",
    "    \"No Action\" : 0,\n",
    "    \"State-Insurer Agreement\" : 1,\n",
    "    \"State Requires\" : 2\n",
    "}  \n",
    "quantifyDicts[\"freeVaccine\"] = {\n",
    "    \"No Action\" : 0,\n",
    "    \"State-Insurer Agreement\" : 1,\n",
    "    \"State Requires\" : 2\n",
    "}\n",
    "quantifyDicts[\"waiverOfPriorAuthorizationRequirements\"] = {\n",
    "    \"No Action\" : 0,\n",
    "    \"For COVID-19 Testing\" : 1,\n",
    "    \"For COVID-19 Testing and Treatment\" : 2\n",
    "}\n",
    "quantifyDicts[\"prescriptionRefill\"] = {\n",
    "    \"No Action\" : 0,\n",
    "    \"Expired\" : 1,\n",
    "    \"State Requires\" : 2\n",
    "}\n",
    "quantifyDicts[\"premiumPaymentGracePeriod\"] = {\n",
    "    \"No Action\" : 0,\n",
    "    \"Expired\" : 1,\n",
    "    \"COVID-19 Diagnosis/Impacts Only\" : 2,\n",
    "    \"Grace Period Extended for All Individual Policies\" : 3,\n",
    "    \"All Policies\" : 4\n",
    "}\n",
    "quantifyDicts[\"marketplaceSpecialEnrollmentPeriod\"] = {\n",
    "    \"No\" : 0,\n",
    "    \"Ended\" : 1,\n",
    "    \"Active\" : 2\n",
    "}\n",
    "quantifyDicts[\"section1135Waiver\"] = {\n",
    "    \"Unapproved\" : 0,\n",
    "    \"Approved\" : 1\n",
    "}\n",
    "quantifyDicts[\"paidSickLeaves\"] = {\n",
    "    \"No Action\" : 0,\n",
    "    \"Proposed - March 2020\" : 1,\n",
    "    \"Enacted\" : 2\n",
    "}\n",
    "quantifyDicts[\"expandsAccesstoTelehealthServices\"] = {\n",
    "    \"No\" : 0,\n",
    "    \"Yes\" : 1\n",
    "}"
   ]
  },
  {
   "cell_type": "code",
   "execution_count": 7,
   "metadata": {
    "id": "X8FzasrVISoO"
   },
   "outputs": [],
   "source": [
    "# dropping U.S. national policy\n",
    "statePolicies = policies.drop(44)"
   ]
  },
  {
   "cell_type": "code",
   "execution_count": 8,
   "metadata": {
    "id": "S64Eg_rJ3l0R"
   },
   "outputs": [],
   "source": [
    "def mapperGenerator(colName):\n",
    "    if colName in quantifyDicts.keys():\n",
    "        def mapper(val):\n",
    "            return quantifyDicts[colName][val]\n",
    "    else:\n",
    "        def mapper(val):\n",
    "            return val\n",
    "    return mapper"
   ]
  },
  {
   "cell_type": "code",
   "execution_count": 9,
   "metadata": {},
   "outputs": [],
   "source": [
    "# read in stategdp info\n",
    "# adding quarter 2 gdp change as a column to statepolicies\n",
    "import re\n",
    "stategdp = pd.read_excel(io = \"qgdpstate1020_0.xlsx\", index_col = 0, header = 1)\n",
    "Q2GDPChange = []\n",
    "for id in statePolicies[\"id\"]:\n",
    "    m = re.match(r\"(.+)_UnitedStates_Policy$\", id)\n",
    "    Q2GDPChange.append(stategdp[\"2020Q2\"][m[1]])\n",
    "statePolicies.insert(len(statePolicies.columns), \"Q2GDPChange\", Q2GDPChange)"
   ]
  },
  {
   "cell_type": "code",
   "execution_count": 10,
   "metadata": {},
   "outputs": [],
   "source": [
    "DFtimeFormat(statePolicies, \"lastSavedTimestamp\")"
   ]
  },
  {
   "cell_type": "code",
   "execution_count": 11,
   "metadata": {},
   "outputs": [],
   "source": [
    "Q2END = datetime(2020, 7, 1)\n",
    "newColumns = ['id', 'easingOrder', 'stayAtHome', 'mandatoryQuarantine', 'nonEssentialBusiness', 'largeGatherings', \n",
    "              'schoolClosure', 'restaurantLimit', 'barClosures', 'faceCoveringRequirement']"
   ]
  },
  {
   "cell_type": "code",
   "execution_count": 12,
   "metadata": {},
   "outputs": [],
   "source": [
    "# columns are newColumns + versionDate + Q2GDPChange\n",
    "# create new data frame\n",
    "# for each state in statePolicies, try to access relevant dates, or use info from statePolicies\n",
    "# append to data frame\n",
    "relevantPolicies = []\n",
    "for i in statePolicies.index:\n",
    "    data = []\n",
    "    try:\n",
    "        allStateVersions = c3aidatalake.read_data_json(\n",
    "            \"locationpolicysummary\",\n",
    "            \"allversionsforpolicy\",\n",
    "            body = {\n",
    "                \"this\" : {\n",
    "                    \"id\" : statePolicies[\"id\"][i]\n",
    "                }\n",
    "            }\n",
    "        )\n",
    "        allStateVersions = pd.json_normalize(allStateVersions)\n",
    "        DFtimeFormat(allStateVersions, \"versionDate\")\n",
    "        relevantPolicyFound = False\n",
    "        for ind in allStateVersions.index:\n",
    "            if allStateVersions[\"versionDate\"][ind] < Q2END:\n",
    "                data = [allStateVersions[col][ind] for col in newColumns]\n",
    "                data.append(allStateVersions[\"versionDate\"][ind])\n",
    "                relevantPolicyFound = True\n",
    "                break\n",
    "        if not relevantPolicyFound:\n",
    "            raise \n",
    "    except:\n",
    "        data = [statePolicies[col][i] for col in newColumns]\n",
    "        data.append(statePolicies[\"lastSavedTimestamp\"][i])\n",
    "    data.append(statePolicies[\"Q2GDPChange\"][i])\n",
    "    relevantPolicies.append(data)\n",
    "relevantPolicies = pd.DataFrame(relevantPolicies, columns = newColumns + [\"versionDate\", \"Q2GDPChange\"])"
   ]
  },
  {
   "cell_type": "code",
   "execution_count": 13,
   "metadata": {},
   "outputs": [],
   "source": [
    "xVars = ['easingOrder', 'stayAtHome', 'mandatoryQuarantine', 'nonEssentialBusiness', 'largeGatherings', \n",
    "         'schoolClosure', 'restaurantLimit', 'barClosures', 'faceCoveringRequirement']"
   ]
  },
  {
   "cell_type": "code",
   "execution_count": 14,
   "metadata": {},
   "outputs": [],
   "source": [
    "# quantify statePolicies\n",
    "for col in statePolicies.columns:\n",
    "    mper = mapperGenerator(col)\n",
    "    statePolicies[col] = statePolicies[col].apply(mper)"
   ]
  },
  {
   "cell_type": "code",
   "execution_count": 15,
   "metadata": {},
   "outputs": [
    {
     "name": "stdout",
     "output_type": "stream",
     "text": [
      "Coefficient of  easingOrder :  -1.0554242707239387\n",
      "Coefficient of  stayAtHome :  -0.9584654501962958\n",
      "Coefficient of  mandatoryQuarantine :  -1.3573976591804147\n",
      "Coefficient of  nonEssentialBusiness :  -0.2627522037365565\n",
      "Coefficient of  largeGatherings :  0.08703082431721626\n",
      "Coefficient of  schoolClosure :  0.7177853220839916\n",
      "Coefficient of  restaurantLimit :  -0.1241146638837281\n",
      "Coefficient of  barClosures :  2.0242871893009506\n",
      "Coefficient of  faceCoveringRequirement :  -0.9719740062410962\n",
      "Intercept:  -30.386962755363626\n",
      "R^2:  0.2187025772801755\n"
     ]
    }
   ],
   "source": [
    "X = statePolicies[xVars]\n",
    "Y = statePolicies[\"Q2GDPChange\"]\n",
    "regr = linear_model.LinearRegression()\n",
    "regr.fit(X, Y)\n",
    "for i in range(len(xVars)):\n",
    "    print(\"Coefficient of \", xVars[i], \": \", regr.coef_[i])\n",
    "print(\"Intercept: \", regr.intercept_)\n",
    "print(\"R^2: \", regr.score(X, Y))"
   ]
  },
  {
   "cell_type": "code",
   "execution_count": 16,
   "metadata": {},
   "outputs": [],
   "source": [
    "# quantify relevantPolicies\n",
    "for col in relevantPolicies.columns:\n",
    "    mper = mapperGenerator(col)\n",
    "    relevantPolicies[col] = relevantPolicies[col].apply(mper)"
   ]
  },
  {
   "cell_type": "code",
   "execution_count": 17,
   "metadata": {},
   "outputs": [
    {
     "name": "stdout",
     "output_type": "stream",
     "text": [
      "Coefficient of  easingOrder :  -1.0554242707239387\n",
      "Coefficient of  stayAtHome :  -0.9584654501962958\n",
      "Coefficient of  mandatoryQuarantine :  -1.3573976591804147\n",
      "Coefficient of  nonEssentialBusiness :  -0.2627522037365565\n",
      "Coefficient of  largeGatherings :  0.08703082431721626\n",
      "Coefficient of  schoolClosure :  0.7177853220839916\n",
      "Coefficient of  restaurantLimit :  -0.1241146638837281\n",
      "Coefficient of  barClosures :  2.0242871893009506\n",
      "Coefficient of  faceCoveringRequirement :  -0.9719740062410962\n",
      "Intercept:  -30.386962755363626\n",
      "R^2:  0.2187025772801755\n"
     ]
    }
   ],
   "source": [
    "relevantX = relevantPolicies[xVars]\n",
    "relevantY = relevantPolicies[\"Q2GDPChange\"]\n",
    "relevantRegr = linear_model.LinearRegression()\n",
    "relevantRegr.fit(relevantX, relevantY)\n",
    "for i in range(len(xVars)):\n",
    "    print(\"Coefficient of \", xVars[i], \": \", relevantRegr.coef_[i])\n",
    "print(\"Intercept: \", relevantRegr.intercept_)\n",
    "print(\"R^2: \", relevantRegr.score(relevantX, relevantY))"
   ]
  },
  {
   "cell_type": "code",
   "execution_count": 19,
   "metadata": {},
   "outputs": [],
   "source": [
    "def addRestrictMeasure(df, varsToUse):\n",
    "    sums = [sum([df[var][i] for var in varsToUse]) for i in df.index]\n",
    "    df.insert(loc = len(df.columns), column = \"restrictivenessMeasure\", value = sums)            "
   ]
  },
  {
   "cell_type": "code",
   "execution_count": 20,
   "metadata": {},
   "outputs": [],
   "source": [
    "addRestrictMeasure(statePolicies, xVars)"
   ]
  },
  {
   "cell_type": "code",
   "execution_count": 21,
   "metadata": {
    "scrolled": true
   },
   "outputs": [
    {
     "data": {
      "text/plain": [
       "LinearRegression()"
      ]
     },
     "execution_count": 21,
     "metadata": {},
     "output_type": "execute_result"
    }
   ],
   "source": [
    "aggrRegr = linear_model.LinearRegression()\n",
    "restricMeasures = statePolicies[[\"restrictivenessMeasure\"]]\n",
    "Y = statePolicies[\"Q2GDPChange\"]\n",
    "aggrRegr.fit(restricMeasures, Y)"
   ]
  },
  {
   "cell_type": "code",
   "execution_count": 22,
   "metadata": {},
   "outputs": [
    {
     "name": "stdout",
     "output_type": "stream",
     "text": [
      "Coefficient of restrictivenessMeasure:  -0.10806081081081081\n",
      "Intercept:  -30.046817567567565\n",
      "R^2:  0.010059420836790678\n"
     ]
    }
   ],
   "source": [
    "print(\"Coefficient of restrictivenessMeasure: \", aggrRegr.coef_[0])\n",
    "print(\"Intercept: \", aggrRegr.intercept_)\n",
    "print(\"R^2: \", aggrRegr.score(restricMeasures, Y))"
   ]
  },
  {
   "cell_type": "code",
   "execution_count": 26,
   "metadata": {},
   "outputs": [
    {
     "data": {
      "image/png": "[encoded data removed]",
      "text/plain": [
       "<Figure size 432x288 with 1 Axes>"
      ]
     },
     "metadata": {
      "needs_background": "light"
     },
     "output_type": "display_data"
    }
   ],
   "source": [
    "plt.scatter(statePolicies[\"restrictivenessMeasure\"], statePolicies[\"Q2GDPChange\"])\n",
    "minRestric = min(statePolicies[\"restrictivenessMeasure\"])\n",
    "maxRestric = max(statePolicies[\"restrictivenessMeasure\"])\n",
    "xCords = np.linspace(minRestric, maxRestric, )\n",
    "yCords = xCords * aggrRegr.coef_[0] + aggrRegr.intercept_\n",
    "plt.xlabel(\"Sum of Restrictiveness Policies\")\n",
    "plt.ylabel(\"Change in GDP in Q2 of 2020\")\n",
    "plt.show()"
   ]
  },
  {
   "cell_type": "code",
   "execution_count": 24,
   "metadata": {},
   "outputs": [],
   "source": [
    "addRestrictMeasure(relevantPolicies, xVars)"
   ]
  },
  {
   "cell_type": "code",
   "execution_count": 25,
   "metadata": {},
   "outputs": [
    {
     "data": {
      "image/png": "[encoded data removed]",
      "text/plain": [
       "<Figure size 432x288 with 1 Axes>"
      ]
     },
     "metadata": {
      "needs_background": "light"
     },
     "output_type": "display_data"
    }
   ],
   "source": [
    "plt.scatter(relevantPolicies[\"restrictivenessMeasure\"], relevantPolicies[\"Q2GDPChange\"])\n",
    "plt.xlabel(\"Sum of Restrictiveness Policies\")\n",
    "plt.ylabel(\"Change in GDP in Q2 of 2020\")\n",
    "plt.show()"
   ]
  },
  {
   "cell_type": "code",
   "execution_count": 26,
   "metadata": {},
   "outputs": [
    {
     "data": {
      "text/plain": [
       "LinearRegression()"
      ]
     },
     "execution_count": 26,
     "metadata": {},
     "output_type": "execute_result"
    }
   ],
   "source": [
    "relAggrRegr = linear_model.LinearRegression()\n",
    "relRestrMeas = relevantPolicies[[\"restrictivenessMeasure\"]]\n",
    "Y = statePolicies[\"Q2GDPChange\"]\n",
    "relAggrRegr.fit(relRestrMeas, Y)"
   ]
  },
  {
   "cell_type": "code",
   "execution_count": 27,
   "metadata": {},
   "outputs": [
    {
     "name": "stdout",
     "output_type": "stream",
     "text": [
      "Coefficient of restrictivenessMeasure:  -0.10806081081081081\n",
      "Intercept:  -30.046817567567565\n",
      "R^2:  0.010059420836790678\n"
     ]
    }
   ],
   "source": [
    "print(\"Coefficient of restrictivenessMeasure: \", relAggrRegr.coef_[0])\n",
    "print(\"Intercept: \", relAggrRegr.intercept_)\n",
    "print(\"R^2: \", relAggrRegr.score(relRestrMeas, Y))"
   ]
  },
  {
   "cell_type": "code",
   "execution_count": 28,
   "metadata": {},
   "outputs": [
    {
     "data": {
      "text/plain": [
       "Ridge()"
      ]
     },
     "execution_count": 28,
     "metadata": {},
     "output_type": "execute_result"
    }
   ],
   "source": [
    "ridge = linear_model.Ridge()\n",
    "X = relevantPolicies[xVars]\n",
    "Y = relevantPolicies[\"Q2GDPChange\"]\n",
    "ridge.fit(X, Y)"
   ]
  },
  {
   "cell_type": "code",
   "execution_count": 29,
   "metadata": {},
   "outputs": [
    {
     "name": "stdout",
     "output_type": "stream",
     "text": [
      "Coefficient of  easingOrder :  -1.0078896179485897\n",
      "Coefficient of  stayAtHome :  -0.9097780608346612\n",
      "Coefficient of  mandatoryQuarantine :  -1.3064868248311619\n",
      "Coefficient of  nonEssentialBusiness :  -0.2311218963571726\n",
      "Coefficient of  largeGatherings :  0.09072554074684155\n",
      "Coefficient of  schoolClosure :  0.6881544809265732\n",
      "Coefficient of  restaurantLimit :  -0.16888437375979184\n",
      "Coefficient of  barClosures :  1.923545860228992\n",
      "Coefficient of  faceCoveringRequirement :  -0.9121293225755573\n",
      "Intercept:  -30.38716511753594\n",
      "R^2:  0.2182801615684974\n"
     ]
    }
   ],
   "source": [
    "for i in range(len(xVars)):\n",
    "    print(\"Coefficient of \", xVars[i], \": \", ridge.coef_[i])\n",
    "print(\"Intercept: \", ridge.intercept_)\n",
    "print(\"R^2: \", ridge.score(relevantX, relevantY))"
   ]
  },
  {
   "cell_type": "code",
   "execution_count": 30,
   "metadata": {},
   "outputs": [
    {
     "data": {
      "text/plain": [
       "Lasso()"
      ]
     },
     "execution_count": 30,
     "metadata": {},
     "output_type": "execute_result"
    }
   ],
   "source": [
    "aggrLasso = linear_model.Lasso()\n",
    "X = relevantPolicies[[\"restrictivenessMeasure\"]]\n",
    "Y = relevantPolicies[\"Q2GDPChange\"]\n",
    "aggrLasso.fit(X, Y)"
   ]
  },
  {
   "cell_type": "code",
   "execution_count": 31,
   "metadata": {},
   "outputs": [
    {
     "name": "stdout",
     "output_type": "stream",
     "text": [
      "Coefficient of restrictivenessMeasure:  -0.04947972972972975\n",
      "Intercept:  -30.732560810810806\n",
      "R^2:  0.007103101815150614\n"
     ]
    }
   ],
   "source": [
    "print(\"Coefficient of restrictivenessMeasure: \", aggrLasso.coef_[0])\n",
    "print(\"Intercept: \", aggrLasso.intercept_)\n",
    "print(\"R^2: \", aggrLasso.score(X, Y))"
   ]
  },
  {
   "cell_type": "code",
   "execution_count": 32,
   "metadata": {},
   "outputs": [
    {
     "data": {
      "text/plain": [
       "Ridge()"
      ]
     },
     "execution_count": 32,
     "metadata": {},
     "output_type": "execute_result"
    }
   ],
   "source": [
    "aggrRidge = linear_model.Ridge()\n",
    "aggrRidge.fit(X, Y)"
   ]
  },
  {
   "cell_type": "code",
   "execution_count": 33,
   "metadata": {},
   "outputs": [
    {
     "name": "stdout",
     "output_type": "stream",
     "text": [
      "Coefficient of restrictivenessMeasure:  -0.10793682931767562\n",
      "Intercept:  -30.048268880340146\n",
      "R^2:  0.01005940759489199\n"
     ]
    }
   ],
   "source": [
    "print(\"Coefficient of restrictivenessMeasure: \", aggrRidge.coef_[0])\n",
    "print(\"Intercept: \", aggrRidge.intercept_)\n",
    "print(\"R^2: \", aggrRidge.score(X, Y))"
   ]
  },
  {
   "cell_type": "code",
   "execution_count": null,
   "metadata": {},
   "outputs": [],
   "source": []
  }
 ],
 "metadata": {
  "colab": {
   "collapsed_sections": [],
   "name": "Sora_Rithwik_Tyler.ipynb",
   "private_outputs": true,
   "provenance": [],
   "toc_visible": true
  },
  "kernelspec": {
   "display_name": "Python 3",
   "language": "python",
   "name": "python3"
  },
  "language_info": {
   "codemirror_mode": {
    "name": "ipython",
    "version": 3
   },
   "file_extension": ".py",
   "mimetype": "text/x-python",
   "name": "python",
   "nbconvert_exporter": "python",
   "pygments_lexer": "ipython3",
   "version": "3.8.5"
  }
 },
 "nbformat": 4,
 "nbformat_minor": 4
}
