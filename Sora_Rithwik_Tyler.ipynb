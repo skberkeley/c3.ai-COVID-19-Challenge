{
  "nbformat": 4,
  "nbformat_minor": 0,
  "metadata": {
    "colab": {
      "name": "Sora_Rithwik_Tyler.ipynb",
      "provenance": [],
      "private_outputs": true,
      "collapsed_sections": [],
      "toc_visible": true
    },
    "kernelspec": {
      "name": "python3",
      "display_name": "Python 3"
    }
  },
  "cells": [
    {
      "cell_type": "code",
      "metadata": {
        "id": "6FNqVPqZor8O"
      },
      "source": [
        "import requests\n",
        "import pandas as pd\n",
        "from matplotlib import pyplot as plt\n",
        "from scipy.stats import gamma\n",
        "import numpy as np"
      ],
      "execution_count": null,
      "outputs": []
    },
    {
      "cell_type": "markdown",
      "metadata": {
        "id": "T2Zouv-gyEVZ"
      },
      "source": [
        "##DON'T CHANGE:"
      ]
    },
    {
      "cell_type": "code",
      "metadata": {
        "id": "eC5ux7Y0yAkW"
      },
      "source": [
        "from google.colab import drive\n",
        "drive.mount('/content/drive/')\n",
        "import sys\n",
        "sys.path.append('/content/drive/My Drive/C3.ai COVID Challenge')\n",
        "import c3aidatalake"
      ],
      "execution_count": null,
      "outputs": []
    },
    {
      "cell_type": "markdown",
      "metadata": {
        "id": "8ol1gLjTo2OY"
      },
      "source": [
        "###Todo (by 11/3):\n",
        "- Quantify government policy categories (LocationPolicySummary)\n",
        "    - Bigger values for more restrictive policies\n",
        "- Convert economic data to usable format\n",
        "- Produce/visualize distributions and general statistics for data\n"
      ]
    },
    {
      "cell_type": "code",
      "metadata": {
        "id": "Dy6zIMzOS_bR"
      },
      "source": [
        "policies = c3aidatalake.fetch(\n",
        "    \"locationpolicysummary\", \n",
        "    {\n",
        "        \"spec\" : {\n",
        "            \"limit\" : -1\n",
        "        }\n",
        "    })"
      ],
      "execution_count": null,
      "outputs": []
    },
    {
      "cell_type": "code",
      "metadata": {
        "id": "LxFQ3qVQPhQe"
      },
      "source": [
        "def printColValCounts(df, colName):\n",
        "    print(\"Column Name: \" + colName)\n",
        "    print(df[colName].value_counts())"
      ],
      "execution_count": null,
      "outputs": []
    },
    {
      "cell_type": "code",
      "metadata": {
        "id": "X8FzasrVISoO"
      },
      "source": [
        "statePolicies = policies.drop(44)\n",
        "statePolicies.columns"
      ],
      "execution_count": null,
      "outputs": []
    },
    {
      "cell_type": "markdown",
      "metadata": {
        "id": "Ilwd4NZ3UiZF"
      },
      "source": [
        "Generating numerical columns from statePolicies:"
      ]
    },
    {
      "cell_type": "code",
      "metadata": {
        "id": "wlAzCZVfSMjM"
      },
      "source": [
        "printColValCounts(statePolicies, \"mandatoryQuarantine\")"
      ],
      "execution_count": null,
      "outputs": []
    },
    {
      "cell_type": "code",
      "metadata": {
        "id": "ZMR1jSGRUz4w"
      },
      "source": [
        "quantifyDicts = {}\n",
        "quantifyDicts[\"easingOrder\"] = {\n",
        "    \"Reopened\" : 0, \n",
        "    \"Proceeding with Reopening\" : 1,\n",
        "    \"Paused\" : 2, \n",
        "    \"New Restrictions Imposed\" : 3\n",
        "}\n",
        "quantifyDicts[\"stayAtHome\"] = {\n",
        "    \"No Action\" : 0,\n",
        "    \"Lifted\" : 1,\n",
        "    \"Rolled Back to High Risk Groups\" : 2,\n",
        "    \"New Stay at Home Order\" : 3,\n",
        "    \"Statewide\" : 4\n",
        "}\n",
        "quantifyDicts[\"mandatoryQuarantine\"]  = {\n",
        "    \n",
        "}  "
      ],
      "execution_count": null,
      "outputs": []
    },
    {
      "cell_type": "code",
      "metadata": {
        "id": "XWcI0PbYkNDA"
      },
      "source": [
        "def applyDict(val, colName, refDict):\n",
        "    "
      ],
      "execution_count": null,
      "outputs": []
    },
    {
      "cell_type": "code",
      "metadata": {
        "id": "2HCWbLSrqbta"
      },
      "source": [
        "! ls -al ~/.ssh"
      ],
      "execution_count": null,
      "outputs": []
    },
    {
      "cell_type": "markdown",
      "metadata": {
        "id": "n2riepdnrwmU"
      },
      "source": [
        "test\n"
      ]
    }
  ]
}