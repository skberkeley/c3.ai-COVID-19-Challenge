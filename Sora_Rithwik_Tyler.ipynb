{
 "cells": [
  {
   "cell_type": "code",
   "execution_count": 1,
   "metadata": {
    "id": "6FNqVPqZor8O"
   },
   "outputs": [],
   "source": [
    "import requests\n",
    "import pandas as pd\n",
    "from matplotlib import pyplot as plt\n",
    "from scipy.stats import gamma\n",
    "from sklearn import linear_model\n",
    "import numpy as np"
   ]
  },
  {
   "cell_type": "code",
   "execution_count": 2,
   "metadata": {
    "id": "8z8XncOB42tx"
   },
   "outputs": [],
   "source": [
    "import c3aidatalake"
   ]
  },
  {
   "cell_type": "code",
   "execution_count": 29,
   "metadata": {},
   "outputs": [],
   "source": [
    "# Returns datetime object of the given date string\n",
    "# Compare dates with >, <, or ==\n",
    "def timeFormat(s):\n",
    "  return datetime.strptime(s, \"%Y-%m-%dT%H:%M:%SZ\")\n",
    "\n",
    "# Returns float timestamp (seconds since 1 Jan 1970)\n",
    "# Compare timestamps with >, <, or ==\n",
    "def timestampFormat(s):\n",
    "  return timeFormat(s).timestamp()\n",
    "\n",
    "# How to convert column of date strings to these above formats:\n",
    "# DFtimeFormat(dataframe name, string of column header which contains the time strings)\n",
    "def DFtimeFormat(df, column_of_timestrings):\n",
    "  df[column_of_timestrings] = df[column_of_timestrings].apply(timeFormat)\n",
    "  return"
   ]
  },
  {
   "cell_type": "code",
   "execution_count": 31,
   "metadata": {},
   "outputs": [
    {
     "data": {
      "text/plain": [
       "[False, False, True, False, True, False]"
      ]
     },
     "execution_count": 31,
     "metadata": {},
     "output_type": "execute_result"
    }
   ],
   "source": [
    "# returns true if date2 comes after date1\n",
    "def after(date1, date2):\n",
    "    return True if date2>date1 else False\n",
    "\n",
    "statemaskdates = {\"California\": 1, \"Texas\": 2, \"NorthCarolina\": 1.5} # for testing\n",
    "surveystates = [\"California\",\"California\",\"California\", \"Texas\", \"NorthCarolina\", \"NorthCarolina\"] # for testing\n",
    "surveydates = [0, 1, 2, 1.9, 2, 1.4] # for testing\n",
    "\n",
    "# Pass in the dates for mask/stay-home order as STATEDATES, \n",
    "# the location column of surveydata as SURVEYSTATES and\n",
    "# the starttime column of surveydata as SURVEYDATES\n",
    "# returns a column AFTERS that you can directly append to your dataframe\n",
    "def surveyAfterRule(statedates, surveystates, surveydates):\n",
    "    afters = []\n",
    "    for i in range(len(surveystates)):\n",
    "        afters += [after(statedates[surveystates[i]], surveydates[i])]\n",
    "    return afters\n",
    "\n",
    "surveyAfterRule(statemaskdates, surveystates, surveydates) # for testing\n",
    "        "
   ]
  },
  {
   "cell_type": "markdown",
   "metadata": {
    "id": "8ol1gLjTo2OY"
   },
   "source": [
    "###Todo (by 11/3):\n",
    "- Quantify government policy categories (LocationPolicySummary)\n",
    "    - Bigger values for more restrictive policies\n",
    "- Convert economic data to usable format\n",
    "- Produce/visualize distributions and general statistics for data\n",
    "    - Visualize dates of latest policies for states\n"
   ]
  },
  {
   "cell_type": "code",
   "execution_count": null,
   "metadata": {
    "id": "Dy6zIMzOS_bR"
   },
   "outputs": [],
   "source": [
    "policies = c3aidatalake.fetch(\n",
    "    \"locationpolicysummary\", \n",
    "    {\n",
    "        \"spec\" : {\n",
    "            \"limit\" : -1\n",
    "        }\n",
    "    })"
   ]
  },
  {
   "cell_type": "markdown",
   "metadata": {
    "id": "Ilwd4NZ3UiZF"
   },
   "source": [
    "Generating numerical columns from statePolicies:"
   ]
  },
  {
   "cell_type": "markdown",
   "metadata": {
    "id": "tIX17nMTwsCw"
   },
   "source": [
    "Sora's Dictionaries:\n",
    "'mandatoryQuarantine',\n",
    "       'nonEssentialBusiness', 'largeGatherings', 'schoolClosure',\n",
    "       'restaurantLimit', 'barClosures', 'faceCoveringRequirement',\n",
    "       'PrimaryElectionPostponement', 'emergencyDeclaration',\n"
   ]
  },
  {
   "cell_type": "code",
   "execution_count": null,
   "metadata": {
    "id": "ZMR1jSGRUz4w"
   },
   "outputs": [],
   "source": [
    "{\n",
    "    \"tags\": [\n",
    "        \"hide-input\",\n",
    "    ]\n",
    "}\n",
    "quantifyDicts = {}\n",
    "quantifyDicts[\"easingOrder\"] = {\n",
    "    \"Reopened\" : 0, \n",
    "    \"Proceeding with Reopening\" : 1,\n",
    "    \"Paused\" : 2, \n",
    "    \"New Restrictions Imposed\" : 3\n",
    "}\n",
    "quantifyDicts[\"stayAtHome\"] = {\n",
    "    \"No Action\" : 0,\n",
    "    \"Lifted\" : 0,\n",
    "    \"Rolled Back to High Risk Groups\" : 1,\n",
    "    \"New Stay at Home Order\" : 2,\n",
    "    \"Statewide\" : 2\n",
    "}\n",
    "quantifyDicts[\"mandatoryQuarantine\"]  = {\n",
    "    \"No Action\" : 0,\n",
    "    \"Lifted\" : 0,\n",
    "    \"From Certain States (New)\" : 1,\n",
    "    \"Rolled Back to Certain States\" : 1,\n",
    "    \"From Certain States\" : 1,\n",
    "    \"Rolled Back to International Travel\" : 2,\n",
    "    \"All Travelers\" : 3\n",
    "}\n",
    "quantifyDicts[\"nonEssentialBusiness\"] = {\n",
    "    \"No Action\" : 0,\n",
    "    \"All Non-Essential Businesses Permitted to Reopen\" : 0,\n",
    "    \"Some Non-Essential Businesses Permitted to Reopen\" : 1,\n",
    "    \"All Non-Essential Businesses Permitted to Reopen with Reduced Capacity\" : 1,\n",
    "    \"Some Non-Essential Businesses Permitted to Reopen with Reduced Capacity\" : 2,\n",
    "    \"New Business Closures or Limits\" : 3\n",
    "}\n",
    "quantifyDicts[\"largeGatherings\"] = {\n",
    "    \"Lifted\" : 0,\n",
    "    \"No Action\" : 0,\n",
    "    \"Expanded to New Limit Above 25\" : 1,\n",
    "    \"New Limit on Large Gatherings in Place\" : 1,\n",
    "    \"Expanded to New Limit of 25 or Fewer\" : 2,\n",
    "    \">10 People Prohibited\" : 3,\n",
    "    \"All Gatherings Prohibited\" : 4\n",
    "}\n",
    "quantifyDicts[\"schoolClosure\"] = {\n",
    "    \"Rescinded\" : 0,\n",
    "    \"Recommended Closure for School Year\" : 1,\n",
    "    \"Recommended Closure\" : 2,\n",
    "    \"Closed for School Year\" : 3,\n",
    "    \"Closed\" : 4\n",
    "}\n",
    "quantifyDicts[\"restaurantLimit\"] = {\n",
    "    \"No Action\" : 0,\n",
    "    \"Reopened to Dine-in Service\" : 1,\n",
    "    \"Reopened to Dine-in Service with Capacity Limits\" : 2,\n",
    "    \"New Service Limits\" : 3,\n",
    "    \"Newly Closed to Dine-in Service\" : 3\n",
    "}\n",
    "quantifyDicts[\"barClosures\"] = {\n",
    "    \"Reopened\" : 0,\n",
    "    \"New Service Limits\" : 1,\n",
    "    \"Closed\" : 2,\n",
    "    \"Newly Closed\" : 2\n",
    "}\n",
    "quantifyDicts[\"faceCoveringRequirement\"] = {\n",
    "    \"No\" : 0,\n",
    "    \"Required for Certain Employees\" : 1,\n",
    "    \"Allows Local Officals to Require for General Public\" : 1,\n",
    "    \"Required for Certain Employees; Allows Local Officials to Require for General Public\" : 1,\n",
    "    \"Required for General Public\" : 2\n",
    "}\n",
    "quantifyDicts[\"PrimaryElectionPostponement\"] = {\n",
    "    \"No\" : 0,\n",
    "    \"Postponed\" : 1,\n",
    "    \"Canceled\" : 2\n",
    "}\n",
    "quantifyDicts[\"emergencyDeclaration\"] = {\n",
    "    \"Yes\" : 0\n",
    "}\n",
    "quantifyDicts[\"waiveTreatmentCost\"]  = {\n",
    "    \"No Action\" : 0,\n",
    "    \"State-Insurer Agreement\" : 1,\n",
    "    \"State Requires\" : 2\n",
    "}  \n",
    "quantifyDicts[\"freeVaccine\"] = {\n",
    "    \"No Action\" : 0,\n",
    "    \"State-Insurer Agreement\" : 1,\n",
    "    \"State Requires\" : 2\n",
    "}\n",
    "quantifyDicts[\"waiverOfPriorAuthorizationRequirements\"] = {\n",
    "    \"No Action\" : 0,\n",
    "    \"For COVID-19 Testing\" : 1,\n",
    "    \"For COVID-19 Testing and Treatment\" : 2\n",
    "}\n",
    "quantifyDicts[\"prescriptionRefill\"] = {\n",
    "    \"No Action\" : 0,\n",
    "    \"Expired\" : 1,\n",
    "    \"State Requires\" : 2\n",
    "}\n",
    "quantifyDicts[\"premiumPaymentGracePeriod\"] = {\n",
    "    \"No Action\" : 0,\n",
    "    \"Expired\" : 1,\n",
    "    \"COVID-19 Diagnosis/Impacts Only\" : 2,\n",
    "    \"Grace Period Extended for All Individual Policies\" : 3,\n",
    "    \"All Policies\" : 4\n",
    "}\n",
    "quantifyDicts[\"marketplaceSpecialEnrollmentPeriod\"] = {\n",
    "    \"No\" : 0,\n",
    "    \"Ended\" : 1,\n",
    "    \"Active\" : 2\n",
    "}\n",
    "quantifyDicts[\"section1135Waiver\"] = {\n",
    "    \"Unapproved\" : 0,\n",
    "    \"Approved\" : 1\n",
    "}\n",
    "quantifyDicts[\"paidSickLeaves\"] = {\n",
    "    \"No Action\" : 0,\n",
    "    \"Proposed - March 2020\" : 1,\n",
    "    \"Enacted\" : 2\n",
    "}\n",
    "quantifyDicts[\"expandsAccesstoTelehealthServices\"] = {\n",
    "    \"No\" : 0,\n",
    "    \"Yes\" : 1\n",
    "}"
   ]
  },
  {
   "cell_type": "code",
   "execution_count": null,
   "metadata": {
    "id": "X8FzasrVISoO"
   },
   "outputs": [],
   "source": [
    "# dropping U.S. national policy\n",
    "statePolicies = policies.drop(44)"
   ]
  },
  {
   "cell_type": "code",
   "execution_count": null,
   "metadata": {
    "id": "S64Eg_rJ3l0R"
   },
   "outputs": [],
   "source": [
    "def mapperGenerator(colName):\n",
    "    if colName in quantifyDicts.keys():\n",
    "        def mapper(val):\n",
    "            return quantifyDicts[colName][val]\n",
    "    else:\n",
    "        def mapper(val):\n",
    "            return val\n",
    "    return mapper"
   ]
  },
  {
   "cell_type": "code",
   "execution_count": null,
   "metadata": {},
   "outputs": [],
   "source": [
    "# quantify policy\n",
    "for col in statePolicies.columns:\n",
    "    mper = mapperGenerator(col)\n",
    "    statePolicies[col] = statePolicies[col].apply(mper)"
   ]
  },
  {
   "cell_type": "code",
   "execution_count": null,
   "metadata": {},
   "outputs": [],
   "source": [
    "# read in stategdp info\n",
    "# adding quarter 2 gdp change as a column to statepolicies\n",
    "import re\n",
    "stategdp = pd.read_excel(io = \"qgdpstate1020_0.xlsx\", index_col = 0, header = 1)\n",
    "Q2GDPChange = []\n",
    "for id in statePolicies[\"id\"]:\n",
    "    m = re.match(r\"(.+)_UnitedStates_Policy$\", id)\n",
    "    Q2GDPChange.append(stategdp[\"2020Q2\"][m[1]])\n",
    "statePolicies.insert(len(statePolicies.columns), \"Q2GDPChange\", Q2GDPChange)"
   ]
  },
  {
   "cell_type": "code",
   "execution_count": null,
   "metadata": {},
   "outputs": [
    {
     "data": {
      "text/plain": [
       "LinearRegression()"
      ]
     },
     "execution_count": 10,
     "metadata": {},
     "output_type": "execute_result"
    }
   ],
   "source": [
    "X = statePolicies[['easingOrder', 'stayAtHome', 'mandatoryQuarantine', 'nonEssentialBusiness', \n",
    "                   'largeGatherings', 'schoolClosure', 'restaurantLimit', 'barClosures', \n",
    "                   'faceCoveringRequirement', 'paidSickLeaves']]\n",
    "Y = statePolicies[\"Q2GDPChange\"]\n",
    "regr = linear_model.LinearRegression()\n",
    "regr.fit(X, Y)"
   ]
  },
  {
   "cell_type": "code",
   "execution_count": null,
   "metadata": {},
   "outputs": [
    {
     "name": "stdout",
     "output_type": "stream",
     "text": [
      "Coefficient of  easingOrder :  -0.9262141815009662\n",
      "Coefficient of  stayAtHome :  -1.05923749331456\n",
      "Coefficient of  mandatoryQuarantine :  -1.4291948106393213\n",
      "Coefficient of  nonEssentialBusiness :  -0.35188468850207033\n",
      "Coefficient of  largeGatherings :  -0.16549603747075345\n",
      "Coefficient of  schoolClosure :  0.628377215294127\n",
      "Coefficient of  restaurantLimit :  -0.5827684084902\n",
      "Coefficient of  barClosures :  1.8856612498699614\n",
      "Coefficient of  faceCoveringRequirement :  -1.0095592159160618\n",
      "Coefficient of  paidSickLeaves :  1.1788408282659348\n"
     ]
    }
   ],
   "source": [
    "xVars = ['easingOrder', 'stayAtHome', 'mandatoryQuarantine', 'nonEssentialBusiness', 'largeGatherings', \n",
    "         'schoolClosure', 'restaurantLimit', 'barClosures', 'faceCoveringRequirement', 'paidSickLeaves']\n",
    "for i in range(len(xVars)):\n",
    "    print(\"Coefficient of \", xVars[i], \": \", regr.coef_[i])"
   ]
  },
  {
   "cell_type": "code","execution_count": null,
   "metadata": {},
   "outputs": [],
   "source": [
    "print(regr.intercept_)"
   ]
  },
  {
   "cell_type": "code",
   "execution_count": 13,
   "metadata": {},
   "outputs": [
    {
     "name": "stdout",
     "output_type": "stream",
     "text": [
      "0.25676549737962395\n"
     ]
    }
   ],
   "source": [
    "print(regr.score(X, Y))"
   ]
  }
 ],
 "metadata": {
  "colab": {
   "collapsed_sections": [],
   "name": "Sora_Rithwik_Tyler.ipynb",
   "private_outputs": true,
   "provenance": [],
   "toc_visible": true
  },
  "kernelspec": {
   "display_name": "Python 3",
   "language": "python",
   "name": "python3"
  },
  "language_info": {
   "codemirror_mode": {
    "name": "ipython",
    "version": 3
   },
   "file_extension": ".py",
   "mimetype": "text/x-python",
   "name": "python",
   "nbconvert_exporter": "python",
   "pygments_lexer": "ipython3",
   "version": "3.8.3"
  }
 },
 "nbformat": 4,
 "nbformat_minor": 4
}
