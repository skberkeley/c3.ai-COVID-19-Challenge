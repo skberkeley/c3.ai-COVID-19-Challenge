{
  "nbformat": 4,
  "nbformat_minor": 0,
  "metadata": {
    "colab": {
      "name": "Sora_Rithwik_Tyler.ipynb",
      "provenance": [],
      "private_outputs": true,
      "collapsed_sections": [],
      "toc_visible": true,
      "include_colab_link": true
    },
    "kernelspec": {
      "name": "python3",
      "display_name": "Python 3"
    }
  },
  "cells": [
    {
      "cell_type": "markdown",
      "metadata": {
        "id": "view-in-github",
        "colab_type": "text"
      },
      "source": [
        "<a href=\"https://colab.research.google.com/github/skberkeley/c3.ai-COVID-19-Challenge/blob/main/Sora_Rithwik_Tyler.ipynb\" target=\"_parent\"><img src=\"https://colab.research.google.com/assets/colab-badge.svg\" alt=\"Open In Colab\"/></a>"
      ]
    },
    {
      "cell_type": "code",
      "metadata": {
        "id": "6FNqVPqZor8O"
      },
      "source": [
        "import requests\n",
        "import pandas as pd\n",
        "from matplotlib import pyplot as plt\n",
        "from scipy.stats import gamma\n",
        "import numpy as np\n",
        "from datetime import datetime"
      ],
      "execution_count": null,
      "outputs": []
    },
    {
      "cell_type": "code",
      "metadata": {
        "id": "V1J4zMtPbGrp"
      },
      "source": [
        "# Returns datetime object of the given date string\n",
        "# Compare dates with >, <, or ==\n",
        "def timeFormat(s):\n",
        "  return datetime.strptime(s, \"%Y-%m-%dT%H:%M:%SZ\")\n",
        "\n",
        "# Returns float timestamp (seconds since 1 Jan 1970)\n",
        "# Compare timestamps with >, <, or ==\n",
        "def timestampFormat(s):\n",
        "  return timeFormat(s).timestamp()\n",
        "\n",
        "# How to convert column of date strings to these above formats:\n",
        "# df[\"dateStringsColumn\"] = df[\"dateStringsColumn\"].apply(timeFormat)"
      ],
      "execution_count": null,
      "outputs": []
    },
    {
      "cell_type": "markdown",
      "metadata": {
        "id": "T2Zouv-gyEVZ"
      },
      "source": [
        "##DON'T CHANGE:"
      ]
    },
    {
      "cell_type": "code",
      "metadata": {
        "id": "eC5ux7Y0yAkW"
      },
      "source": [
        "from google.colab import drive\n",
        "drive.mount('/content/drive/')\n",
        "import sys\n",
        "sys.path.append('/content/drive/My Drive/C3.ai COVID Challenge')\n",
        "import c3aidatalake"
      ],
      "execution_count": null,
      "outputs": []
    },
    {
      "cell_type": "markdown",
      "metadata": {
        "id": "8ol1gLjTo2OY"
      },
      "source": [
        "###Todo (by 11/3):\n",
        "- Quantify government policy categories (LocationPolicySummary)\n",
        "    - Bigger values for more restrictive policies\n",
        "- Convert economic data to usable format\n",
        "- Produce/visualize distributions and general statistics for data\n"
      ]
    },
    {
      "cell_type": "code",
      "metadata": {
        "id": "Dy6zIMzOS_bR"
      },
      "source": [
        "policies = c3aidatalake.fetch(\n",
        "    \"locationpolicysummary\", \n",
        "    {\n",
        "        \"spec\" : {\n",
        "            \"limit\" : -1\n",
        "        }\n",
        "    })\n",
        "policies"
      ],
      "execution_count": null,
      "outputs": []
    },
    {
      "cell_type": "code",
      "metadata": {
        "id": "LxFQ3qVQPhQe"
      },
      "source": [
        "def printColValCounts(df, colName):\n",
        "    print(\"Column Name: \" + colName)\n",
        "    print(df[colName].value_counts())"
      ],
      "execution_count": null,
      "outputs": []
    },
    {
      "cell_type": "code",
      "metadata": {
        "id": "X8FzasrVISoO"
      },
      "source": [
        "statePolicies = policies.drop(44)\n",
        "statePolicies.columns"
      ],
      "execution_count": null,
      "outputs": []
    },
    {
      "cell_type": "markdown",
      "metadata": {
        "id": "Ilwd4NZ3UiZF"
      },
      "source": [
        "Generating numerical columns from statePolicies:"
      ]
    },
    {
      "cell_type": "markdown",
      "metadata": {
        "id": "et63Sb9lwvNs"
      },
      "source": [
        "# Tyler\n",
        "# waiveTreatmentCost', 'freeVaccine',\n",
        "#      'waiverOfPriorAuthorizationRequirements', 'prescriptionRefill',\n",
        "#       'premiumPaymentGracePeriod', 'marketplaceSpecialEnrollmentPeriod',\n",
        "#       'section1135Waiver', 'paidSickLeaves',\n",
        "#       'expandsAccesstoTelehealthServices',"
      ]
    },
    {
      "cell_type": "code",
      "metadata": {
        "id": "wlAzCZVfSMjM"
      },
      "source": [
        "printColValCounts(statePolicies, \"premiumPaymentGracePeriod\")"
      ],
      "execution_count": null,
      "outputs": []
    },
    {
      "cell_type": "code",
      "metadata": {
        "id": "ZMR1jSGRUz4w"
      },
      "source": [
        "quantifyDicts = {}\n",
        "quantifyDicts[\"easingOrder\"] = {\n",
        "    \"Reopened\" : 0, \n",
        "    \"Proceeding with Reopening\" : 1,\n",
        "    \"Paused\" : 2, \n",
        "    \"New Restrictions Imposed\" : 3\n",
        "}\n",
        "quantifyDicts[\"stayAtHome\"] = {\n",
        "    \"No Action\" : 0,\n",
        "    \"Lifted\" : 1,\n",
        "    \"Rolled Back to High Risk Groups\" : 2,\n",
        "    \"New Stay at Home Order\" : 3,\n",
        "    \"Statewide\" : 4\n",
        "}\n",
        "quantifyDicts[\"waiveTreatmentCosts\"]  = {\n",
        "    \"No Action\" : 0,\n",
        "    \"State-Insurer Agreement\" : 1,\n",
        "    \"State Requires\" : 2\n",
        "}  \n",
        "quantifyDicts[\"freeVaccine\"] = {\n",
        "    \"No Action\" : 0,\n",
        "    \"State-Insurer Agreement\" : 1,\n",
        "    \"State Requires\" : 2\n",
        "}\n",
        "quantifyDicts[\"waiverofPriorAuthorizationRequirements\"] = {\n",
        "    \"No  Action\" : 0,\n",
        "    \"For COVID-19 Testing\" : 1,\n",
        "    \"For COVID-19 Testing and Treatment\" : 2\n",
        "}\n",
        "quantifyDicts[\"perscritpionRefill\"] = {\n",
        "    \"No Action\" : 0,\n",
        "    \"Expired\" : 1,\n",
        "    \"State Requires\" : 2\n",
        "}\n",
        "quantifyDicts[\"premiumPaymentGracePeriod\"] = {\n",
        "    \"No Action\" : 0,\n",
        "    \"Expired\" : 1,\n",
        "    \"COVID-19 Diagnosis/Impacts Only\" : 2,\n",
        "    \"Grace Period extended for All Individual Policies\" : 3,\n",
        "    \"All Policies\" : 4\n",
        "}\n",
        "\n",
        "quantifyDicts[\"marketplaceSpecialEnrollmentPeriod\"] = {\n",
        "    \"No\" : 0,\n",
        "    \"Ended\" : 1,\n",
        "    \"Active\" : 2\n",
        "}\n",
        "\n",
        "quantifyDicts[\"Section1135Waiver\"] = {\n",
        "    \"Unapproved\" : 0,\n",
        "    \"Approved\" : 1\n",
        "}\n",
        "quantifyDicts[\"paidSickLeaves\"] = {\n",
        "    \"No Action\" : 0,\n",
        "    \"Proposed - March 2020\" : 1,\n",
        "    \"Enacted\" : 2\n",
        "}\n",
        "quantifyDicts[\"expandsAccesstoTelehealthServices\"] = {\n",
        "    \"no\" : 0,\n",
        "    \"yes\" : 1\n",
        "}"
      ],
      "execution_count": null,
      "outputs": []
    },
    {
      "cell_type": "code",
      "metadata": {
        "id": "AyPDhJZ4AVjw"
      },
      "source": [
        ""
      ],
      "execution_count": null,
      "outputs": []
    },
    {
      "cell_type": "code",
      "metadata": {
        "id": "XWcI0PbYkNDA"
      },
      "source": [
        "def applyDict(val, colName, refDict):\n",
        "    "
      ],
      "execution_count": null,
      "outputs": []
    }
  ]
}