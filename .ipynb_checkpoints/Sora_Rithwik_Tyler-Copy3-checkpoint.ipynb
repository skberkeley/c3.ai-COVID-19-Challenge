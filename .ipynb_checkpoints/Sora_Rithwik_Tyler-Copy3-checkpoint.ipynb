{
 "cells": [
  {
   "cell_type": "code",
   "execution_count": 2,
   "metadata": {
    "id": "6FNqVPqZor8O",
    "scrolled": true
   },
   "outputs": [
    {
     "ename": "ImportError",
     "evalue": "cannot import name 'registry'",
     "output_type": "error",
     "traceback": [
      "\u001b[0;31m---------------------------------------------------------------------------\u001b[0m",
      "\u001b[0;31mImportError\u001b[0m                               Traceback (most recent call last)",
      "\u001b[0;32m<ipython-input-2-254acc882a2a>\u001b[0m in \u001b[0;36m<module>\u001b[0;34m()\u001b[0m\n\u001b[1;32m      1\u001b[0m \u001b[0;32mimport\u001b[0m \u001b[0mrequests\u001b[0m\u001b[0;34m\u001b[0m\u001b[0m\n\u001b[0;32m----> 2\u001b[0;31m \u001b[0;32mimport\u001b[0m \u001b[0mpandas\u001b[0m \u001b[0;32mas\u001b[0m \u001b[0mpd\u001b[0m\u001b[0;34m\u001b[0m\u001b[0m\n\u001b[0m\u001b[1;32m      3\u001b[0m \u001b[0;32mfrom\u001b[0m \u001b[0mmatplotlib\u001b[0m \u001b[0;32mimport\u001b[0m \u001b[0mpyplot\u001b[0m \u001b[0;32mas\u001b[0m \u001b[0mplt\u001b[0m\u001b[0;34m\u001b[0m\u001b[0m\n\u001b[1;32m      4\u001b[0m \u001b[0;32mfrom\u001b[0m \u001b[0mscipy\u001b[0m\u001b[0;34m.\u001b[0m\u001b[0mstats\u001b[0m \u001b[0;32mimport\u001b[0m \u001b[0mgamma\u001b[0m\u001b[0;34m\u001b[0m\u001b[0m\n\u001b[1;32m      5\u001b[0m \u001b[0;32mfrom\u001b[0m \u001b[0msklearn\u001b[0m \u001b[0;32mimport\u001b[0m \u001b[0mlinear_model\u001b[0m\u001b[0;34m\u001b[0m\u001b[0m\n",
      "\u001b[0;32m/Users/RithwikSudharsan/anaconda/lib/python3.6/site-packages/pandas/__init__.py\u001b[0m in \u001b[0;36m<module>\u001b[0;34m()\u001b[0m\n\u001b[1;32m     40\u001b[0m \u001b[0;32mimport\u001b[0m \u001b[0mpandas\u001b[0m\u001b[0;34m.\u001b[0m\u001b[0mcore\u001b[0m\u001b[0;34m.\u001b[0m\u001b[0mconfig_init\u001b[0m\u001b[0;34m\u001b[0m\u001b[0m\n\u001b[1;32m     41\u001b[0m \u001b[0;34m\u001b[0m\u001b[0m\n\u001b[0;32m---> 42\u001b[0;31m \u001b[0;32mfrom\u001b[0m \u001b[0mpandas\u001b[0m\u001b[0;34m.\u001b[0m\u001b[0mcore\u001b[0m\u001b[0;34m.\u001b[0m\u001b[0mapi\u001b[0m \u001b[0;32mimport\u001b[0m \u001b[0;34m*\u001b[0m\u001b[0;34m\u001b[0m\u001b[0m\n\u001b[0m\u001b[1;32m     43\u001b[0m \u001b[0;32mfrom\u001b[0m \u001b[0mpandas\u001b[0m\u001b[0;34m.\u001b[0m\u001b[0mcore\u001b[0m\u001b[0;34m.\u001b[0m\u001b[0msparse\u001b[0m\u001b[0;34m.\u001b[0m\u001b[0mapi\u001b[0m \u001b[0;32mimport\u001b[0m \u001b[0;34m*\u001b[0m\u001b[0;34m\u001b[0m\u001b[0m\n\u001b[1;32m     44\u001b[0m \u001b[0;32mfrom\u001b[0m \u001b[0mpandas\u001b[0m\u001b[0;34m.\u001b[0m\u001b[0mtseries\u001b[0m\u001b[0;34m.\u001b[0m\u001b[0mapi\u001b[0m \u001b[0;32mimport\u001b[0m \u001b[0;34m*\u001b[0m\u001b[0;34m\u001b[0m\u001b[0m\n",
      "\u001b[0;32m/Users/RithwikSudharsan/anaconda/lib/python3.6/site-packages/pandas/core/api.py\u001b[0m in \u001b[0;36m<module>\u001b[0;34m()\u001b[0m\n\u001b[1;32m      5\u001b[0m \u001b[0;32mimport\u001b[0m \u001b[0mnumpy\u001b[0m \u001b[0;32mas\u001b[0m \u001b[0mnp\u001b[0m\u001b[0;34m\u001b[0m\u001b[0m\n\u001b[1;32m      6\u001b[0m \u001b[0;34m\u001b[0m\u001b[0m\n\u001b[0;32m----> 7\u001b[0;31m from pandas.core.arrays.integer import (\n\u001b[0m\u001b[1;32m      8\u001b[0m     \u001b[0mInt8Dtype\u001b[0m\u001b[0;34m,\u001b[0m\u001b[0;34m\u001b[0m\u001b[0m\n\u001b[1;32m      9\u001b[0m     \u001b[0mInt16Dtype\u001b[0m\u001b[0;34m,\u001b[0m\u001b[0;34m\u001b[0m\u001b[0m\n",
      "\u001b[0;32m/Users/RithwikSudharsan/anaconda/lib/python3.6/site-packages/pandas/core/arrays/__init__.py\u001b[0m in \u001b[0;36m<module>\u001b[0;34m()\u001b[0m\n\u001b[1;32m      1\u001b[0m \u001b[0;32mfrom\u001b[0m \u001b[0;34m.\u001b[0m\u001b[0marray_\u001b[0m \u001b[0;32mimport\u001b[0m \u001b[0marray\u001b[0m  \u001b[0;31m# noqa\u001b[0m\u001b[0;34m\u001b[0m\u001b[0m\n\u001b[0;32m----> 2\u001b[0;31m from .base import (ExtensionArray,    # noqa\n\u001b[0m\u001b[1;32m      3\u001b[0m                    \u001b[0mExtensionOpsMixin\u001b[0m\u001b[0;34m,\u001b[0m\u001b[0;34m\u001b[0m\u001b[0m\n\u001b[1;32m      4\u001b[0m                    ExtensionScalarOpsMixin)\n\u001b[1;32m      5\u001b[0m \u001b[0;32mfrom\u001b[0m \u001b[0;34m.\u001b[0m\u001b[0mcategorical\u001b[0m \u001b[0;32mimport\u001b[0m \u001b[0mCategorical\u001b[0m  \u001b[0;31m# noqa\u001b[0m\u001b[0;34m\u001b[0m\u001b[0m\n",
      "\u001b[0;32m/Users/RithwikSudharsan/anaconda/lib/python3.6/site-packages/pandas/core/arrays/base.py\u001b[0m in \u001b[0;36m<module>\u001b[0;34m()\u001b[0m\n\u001b[1;32m     19\u001b[0m \u001b[0;32mfrom\u001b[0m \u001b[0mpandas\u001b[0m\u001b[0;34m.\u001b[0m\u001b[0mcore\u001b[0m\u001b[0;34m.\u001b[0m\u001b[0mdtypes\u001b[0m\u001b[0;34m.\u001b[0m\u001b[0mmissing\u001b[0m \u001b[0;32mimport\u001b[0m \u001b[0misna\u001b[0m\u001b[0;34m\u001b[0m\u001b[0m\n\u001b[1;32m     20\u001b[0m \u001b[0;34m\u001b[0m\u001b[0m\n\u001b[0;32m---> 21\u001b[0;31m \u001b[0;32mfrom\u001b[0m \u001b[0mpandas\u001b[0m\u001b[0;34m.\u001b[0m\u001b[0mcore\u001b[0m \u001b[0;32mimport\u001b[0m \u001b[0mops\u001b[0m\u001b[0;34m\u001b[0m\u001b[0m\n\u001b[0m\u001b[1;32m     22\u001b[0m \u001b[0;34m\u001b[0m\u001b[0m\n\u001b[1;32m     23\u001b[0m \u001b[0m_not_implemented_message\u001b[0m \u001b[0;34m=\u001b[0m \u001b[0;34m\"{} does not implement {}.\"\u001b[0m\u001b[0;34m\u001b[0m\u001b[0m\n",
      "\u001b[0;32m/Users/RithwikSudharsan/anaconda/lib/python3.6/site-packages/pandas/core/ops/__init__.py\u001b[0m in \u001b[0;36m<module>\u001b[0;34m()\u001b[0m\n\u001b[1;32m     19\u001b[0m \u001b[0;34m\u001b[0m\u001b[0m\n\u001b[1;32m     20\u001b[0m \u001b[0;32mfrom\u001b[0m \u001b[0mpandas\u001b[0m\u001b[0;34m.\u001b[0m\u001b[0mcore\u001b[0m \u001b[0;32mimport\u001b[0m \u001b[0malgorithms\u001b[0m\u001b[0;34m\u001b[0m\u001b[0m\n\u001b[0;32m---> 21\u001b[0;31m \u001b[0;32mfrom\u001b[0m \u001b[0mpandas\u001b[0m\u001b[0;34m.\u001b[0m\u001b[0mcore\u001b[0m\u001b[0;34m.\u001b[0m\u001b[0mconstruction\u001b[0m \u001b[0;32mimport\u001b[0m \u001b[0mextract_array\u001b[0m\u001b[0;34m\u001b[0m\u001b[0m\n\u001b[0m\u001b[1;32m     22\u001b[0m from pandas.core.ops.array_ops import (\n\u001b[1;32m     23\u001b[0m     \u001b[0marithmetic_op\u001b[0m\u001b[0;34m,\u001b[0m\u001b[0;34m\u001b[0m\u001b[0m\n",
      "\u001b[0;32m/Users/RithwikSudharsan/anaconda/lib/python3.6/site-packages/pandas/core/construction.py\u001b[0m in \u001b[0;36m<module>\u001b[0;34m()\u001b[0m\n\u001b[1;32m     16\u001b[0m \u001b[0;32mfrom\u001b[0m \u001b[0mpandas\u001b[0m\u001b[0;34m.\u001b[0m\u001b[0m_typing\u001b[0m \u001b[0;32mimport\u001b[0m \u001b[0mAnyArrayLike\u001b[0m\u001b[0;34m,\u001b[0m \u001b[0mArrayLike\u001b[0m\u001b[0;34m,\u001b[0m \u001b[0mDtype\u001b[0m\u001b[0;34m,\u001b[0m \u001b[0mDtypeObj\u001b[0m\u001b[0;34m\u001b[0m\u001b[0m\n\u001b[1;32m     17\u001b[0m \u001b[0;34m\u001b[0m\u001b[0m\n\u001b[0;32m---> 18\u001b[0;31m \u001b[0;32mfrom\u001b[0m \u001b[0mpandas\u001b[0m\u001b[0;34m.\u001b[0m\u001b[0mcore\u001b[0m\u001b[0;34m.\u001b[0m\u001b[0mdtypes\u001b[0m\u001b[0;34m.\u001b[0m\u001b[0mbase\u001b[0m \u001b[0;32mimport\u001b[0m \u001b[0mExtensionDtype\u001b[0m\u001b[0;34m,\u001b[0m \u001b[0mregistry\u001b[0m\u001b[0;34m\u001b[0m\u001b[0m\n\u001b[0m\u001b[1;32m     19\u001b[0m from pandas.core.dtypes.cast import (\n\u001b[1;32m     20\u001b[0m     \u001b[0mconstruct_1d_arraylike_from_scalar\u001b[0m\u001b[0;34m,\u001b[0m\u001b[0;34m\u001b[0m\u001b[0m\n",
      "\u001b[0;31mImportError\u001b[0m: cannot import name 'registry'"
     ]
    }
   ],
   "source": [
    "import requests\n",
    "import pandas as pd\n",
    "from matplotlib import pyplot as plt\n",
    "from scipy.stats import gamma\n",
    "from sklearn import linear_model\n",
    "import numpy as np\n",
    "from datetime import datetime\n",
    "import math"
   ]
  },
  {
   "cell_type": "code",
   "execution_count": null,
   "metadata": {
    "collapsed": true,
    "id": "8z8XncOB42tx"
   },
   "outputs": [],
   "source": [
    "import c3aidatalake"
   ]
  },
  {
   "cell_type": "code",
   "execution_count": null,
   "metadata": {
    "collapsed": true
   },
   "outputs": [],
   "source": [
    "# Returns datetime object of the given date string\n",
    "# Compare dates with >, <, or ==\n",
    "def timeFormat(s):\n",
    "    if str(s) == \"nan\":\n",
    "        return s\n",
    "    else:\n",
    "        return datetime.strptime(s, \"%Y-%m-%dT%H:%M:%SZ\")\n",
    "\n",
    "# Returns float timestamp (seconds since 1 Jan 1970)\n",
    "# Compare timestamps with >, <, or ==\n",
    "def timestampFormat(s):\n",
    "    if str(s) == \"nan\":\n",
    "        return s\n",
    "    else:\n",
    "        return timeFormat(s).timestamp()\n",
    "\n",
    "# How to convert column of date strings to these above formats:\n",
    "# DFtimeFormat(dataframe name, string of column header which contains the time strings)\n",
    "def DFtimeFormat(df, column_of_timestrings):\n",
    "    df[column_of_timestrings] = df[column_of_timestrings].apply(timeFormat)\n",
    "    return"
   ]
  },
  {
   "cell_type": "code",
   "execution_count": null,
   "metadata": {},
   "outputs": [],
   "source": [
    "# returns true if date2 comes after date1\n",
    "def after(date1, date2):\n",
    "    return True if date2>date1 else False\n",
    "\n",
    "statemaskdates = {\"California\": 1, \"Texas\": 2, \"NorthCarolina\": 1.5} # for testing\n",
    "surveystates = [\"California\",\"California\",\"California\", \"Texas\", \"NorthCarolina\", \"NorthCarolina\"] # for testing\n",
    "surveydates = [0, 1, 2, 1.9, 2, 1.4] # for testing\n",
    "\n",
    "# Pass in the dates for mask/stay-home order as STATEDATES, \n",
    "# the location column of surveydata as SURVEYSTATES and\n",
    "# the starttime column of surveydata as SURVEYDATES\n",
    "# returns a column AFTERS that you can directly append to your dataframe\n",
    "def surveyAfterRule(statedates, surveystates, surveydates):\n",
    "    afters = []\n",
    "    for i in range(len(surveystates)):\n",
    "        afters += [after(statedates[surveystates[i]], surveydates[i])]\n",
    "    return afters\n",
    "\n",
    "surveyAfterRule(statemaskdates, surveystates, surveydates) # for testing\n",
    "        "
   ]
  },
  {
   "cell_type": "markdown",
   "metadata": {
    "id": "8ol1gLjTo2OY"
   },
   "source": [
    "###Todo (by 11/3):\n",
    "- Quantify government policy categories (LocationPolicySummary)\n",
    "    - Bigger values for more restrictive policies\n",
    "- Convert economic data to usable format\n",
    "- Produce/visualize distributions and general statistics for data\n",
    "    - Visualize dates of latest policies for states\n"
   ]
  },
  {
   "cell_type": "code",
   "execution_count": null,
   "metadata": {
    "collapsed": true,
    "id": "Dy6zIMzOS_bR"
   },
   "outputs": [],
   "source": [
    "policies = c3aidatalake.fetch(\n",
    "    \"locationpolicysummary\", \n",
    "    {\n",
    "        \"spec\" : {\n",
    "            \"limit\" : -1\n",
    "        }\n",
    "    })"
   ]
  },
  {
   "cell_type": "markdown",
   "metadata": {
    "id": "Ilwd4NZ3UiZF"
   },
   "source": [
    "Generating numerical columns from statePolicies:"
   ]
  },
  {
   "cell_type": "markdown",
   "metadata": {
    "id": "tIX17nMTwsCw"
   },
   "source": [
    "Sora's Dictionaries:\n",
    "'mandatoryQuarantine',\n",
    "       'nonEssentialBusiness', 'largeGatherings', 'schoolClosure',\n",
    "       'restaurantLimit', 'barClosures', 'faceCoveringRequirement',\n",
    "       'PrimaryElectionPostponement', 'emergencyDeclaration',\n"
   ]
  },
  {
   "cell_type": "code",
   "execution_count": null,
   "metadata": {
    "collapsed": true,
    "id": "ZMR1jSGRUz4w"
   },
   "outputs": [],
   "source": [
    "{\n",
    "    \"tags\": [\n",
    "        \"hide-input\",\n",
    "    ]\n",
    "}\n",
    "quantifyDicts = {}\n",
    "quantifyDicts[\"easingOrder\"] = {\n",
    "    \"Reopened\" : 0, \n",
    "    \"Proceeding with Reopening\" : 1,\n",
    "    \"Paused\" : 2, \n",
    "    \"New Restrictions Imposed\" : 3\n",
    "}\n",
    "quantifyDicts[\"stayAtHome\"] = {\n",
    "    \"No Action\" : 0,\n",
    "    \"Lifted\" : 0,\n",
    "    \"Rolled Back to High Risk Groups\" : 1,\n",
    "    \"New Stay at Home Order\" : 2,\n",
    "    \"Statewide\" : 2\n",
    "}\n",
    "quantifyDicts[\"mandatoryQuarantine\"]  = {\n",
    "    \"No Action\" : 0,\n",
    "    \"Lifted\" : 0,\n",
    "    \"From Certain States (New)\" : 1,\n",
    "    \"Rolled Back to Certain States\" : 1,\n",
    "    \"From Certain States\" : 1,\n",
    "    \"Rolled Back to International Travel\" : 2,\n",
    "    \"All Travelers\" : 3\n",
    "}\n",
    "quantifyDicts[\"nonEssentialBusiness\"] = {\n",
    "    \"No Action\" : 0,\n",
    "    \"All Non-Essential Businesses Permitted to Reopen\" : 0,\n",
    "    \"Some Non-Essential Businesses Permitted to Reopen\" : 1,\n",
    "    \"All Non-Essential Businesses Permitted to Reopen with Reduced Capacity\" : 1,\n",
    "    \"Some Non-Essential Businesses Permitted to Reopen with Reduced Capacity\" : 2,\n",
    "    \"New Business Closures or Limits\" : 3\n",
    "}\n",
    "quantifyDicts[\"largeGatherings\"] = {\n",
    "    \"Lifted\" : 0,\n",
    "    \"No Action\" : 0,\n",
    "    \"Expanded to New Limit Above 25\" : 1,\n",
    "    \"New Limit on Large Gatherings in Place\" : 1,\n",
    "    \"Expanded to New Limit of 25 or Fewer\" : 2,\n",
    "    \">10 People Prohibited\" : 3,\n",
    "    \"All Gatherings Prohibited\" : 4\n",
    "}\n",
    "quantifyDicts[\"schoolClosure\"] = {\n",
    "    \"Rescinded\" : 0,\n",
    "    \"Recommended Closure for School Year\" : 1,\n",
    "    \"Recommended Closure\" : 2,\n",
    "    \"Closed for School Year\" : 3,\n",
    "    \"Closed\" : 4\n",
    "}\n",
    "quantifyDicts[\"restaurantLimit\"] = {\n",
    "    \"No Action\" : 0,\n",
    "    \"Reopened to Dine-in Service\" : 1,\n",
    "    \"Reopened to Dine-in Service with Capacity Limits\" : 2,\n",
    "    \"New Service Limits\" : 3,\n",
    "    \"Newly Closed to Dine-in Service\" : 3\n",
    "}\n",
    "quantifyDicts[\"barClosures\"] = {\n",
    "    \"Reopened\" : 0,\n",
    "    \"New Service Limits\" : 1,\n",
    "    \"Closed\" : 2,\n",
    "    \"Newly Closed\" : 2\n",
    "}\n",
    "quantifyDicts[\"faceCoveringRequirement\"] = {\n",
    "    \"No\" : 0,\n",
    "    \"Required for Certain Employees\" : 1,\n",
    "    \"Allows Local Officals to Require for General Public\" : 1,\n",
    "    \"Required for Certain Employees; Allows Local Officials to Require for General Public\" : 1,\n",
    "    \"Required for General Public\" : 2\n",
    "}\n",
    "quantifyDicts[\"PrimaryElectionPostponement\"] = {\n",
    "    \"No\" : 0,\n",
    "    \"Postponed\" : 1,\n",
    "    \"Canceled\" : 2\n",
    "}\n",
    "quantifyDicts[\"emergencyDeclaration\"] = {\n",
    "    \"Yes\" : 0\n",
    "}\n",
    "quantifyDicts[\"waiveTreatmentCost\"]  = {\n",
    "    \"No Action\" : 0,\n",
    "    \"State-Insurer Agreement\" : 1,\n",
    "    \"State Requires\" : 2\n",
    "}  \n",
    "quantifyDicts[\"freeVaccine\"] = {\n",
    "    \"No Action\" : 0,\n",
    "    \"State-Insurer Agreement\" : 1,\n",
    "    \"State Requires\" : 2\n",
    "}\n",
    "quantifyDicts[\"waiverOfPriorAuthorizationRequirements\"] = {\n",
    "    \"No Action\" : 0,\n",
    "    \"For COVID-19 Testing\" : 1,\n",
    "    \"For COVID-19 Testing and Treatment\" : 2\n",
    "}\n",
    "quantifyDicts[\"prescriptionRefill\"] = {\n",
    "    \"No Action\" : 0,\n",
    "    \"Expired\" : 1,\n",
    "    \"State Requires\" : 2\n",
    "}\n",
    "quantifyDicts[\"premiumPaymentGracePeriod\"] = {\n",
    "    \"No Action\" : 0,\n",
    "    \"Expired\" : 1,\n",
    "    \"COVID-19 Diagnosis/Impacts Only\" : 2,\n",
    "    \"Grace Period Extended for All Individual Policies\" : 3,\n",
    "    \"All Policies\" : 4\n",
    "}\n",
    "quantifyDicts[\"marketplaceSpecialEnrollmentPeriod\"] = {\n",
    "    \"No\" : 0,\n",
    "    \"Ended\" : 1,\n",
    "    \"Active\" : 2\n",
    "}\n",
    "quantifyDicts[\"section1135Waiver\"] = {\n",
    "    \"Unapproved\" : 0,\n",
    "    \"Approved\" : 1\n",
    "}\n",
    "quantifyDicts[\"paidSickLeaves\"] = {\n",
    "    \"No Action\" : 0,\n",
    "    \"Proposed - March 2020\" : 1,\n",
    "    \"Enacted\" : 2\n",
    "}\n",
    "quantifyDicts[\"expandsAccesstoTelehealthServices\"] = {\n",
    "    \"No\" : 0,\n",
    "    \"Yes\" : 1\n",
    "}"
   ]
  },
  {
   "cell_type": "code",
   "execution_count": null,
   "metadata": {
    "collapsed": true,
    "id": "X8FzasrVISoO"
   },
   "outputs": [],
   "source": [
    "# dropping U.S. national policy\n",
    "statePolicies = policies.drop(44)"
   ]
  },
  {
   "cell_type": "code",
   "execution_count": null,
   "metadata": {
    "collapsed": true,
    "id": "S64Eg_rJ3l0R"
   },
   "outputs": [],
   "source": [
    "def mapperGenerator(colName):\n",
    "    if colName in quantifyDicts.keys():\n",
    "        def mapper(val):\n",
    "            return quantifyDicts[colName][val]\n",
    "    else:\n",
    "        def mapper(val):\n",
    "            return val\n",
    "    return mapper"
   ]
  },
  {
   "cell_type": "code",
   "execution_count": null,
   "metadata": {
    "collapsed": true
   },
   "outputs": [],
   "source": [
    "# read in stategdp info\n",
    "# adding quarter 2 gdp change as a column to statepolicies\n",
    "import re\n",
    "stategdp = pd.read_excel(io = \"qgdpstate1020_0.xlsx\", index_col = 0, header = 1)\n",
    "Q2GDPChange = []\n",
    "for id in statePolicies[\"id\"]:\n",
    "    m = re.match(r\"(.+)_UnitedStates_Policy$\", id)\n",
    "    Q2GDPChange.append(stategdp[\"2020Q2\"][m[1]])\n",
    "statePolicies.insert(len(statePolicies.columns), \"Q2GDPChange\", Q2GDPChange)"
   ]
  },
  {
   "cell_type": "code",
   "execution_count": null,
   "metadata": {
    "collapsed": true
   },
   "outputs": [],
   "source": [
    "DFtimeFormat(statePolicies, \"lastSavedTimestamp\")"
   ]
  },
  {
   "cell_type": "code",
   "execution_count": null,
   "metadata": {
    "collapsed": true
   },
   "outputs": [],
   "source": [
    "Q2END = datetime(2020, 7, 1)\n",
    "newColumns = ['id', 'easingOrder', 'stayAtHome', 'mandatoryQuarantine', 'nonEssentialBusiness', 'largeGatherings', \n",
    "              'schoolClosure', 'restaurantLimit', 'barClosures', 'faceCoveringRequirement']"
   ]
  },
  {
   "cell_type": "code",
   "execution_count": null,
   "metadata": {
    "collapsed": true
   },
   "outputs": [],
   "source": [
    "# columns are newColumns + versionDate + Q2GDPChange\n",
    "# create new data frame\n",
    "# for each state in statePolicies, try to access relevant dates, or use info from statePolicies\n",
    "# append to data frame\n",
    "relevantPolicies = []\n",
    "for i in statePolicies.index:\n",
    "    data = []\n",
    "    try:\n",
    "        allStateVersions = c3aidatalake.read_data_json(\n",
    "            \"locationpolicysummary\",\n",
    "            \"allversionsforpolicy\",\n",
    "            body = {\n",
    "                \"this\" : {\n",
    "                    \"id\" : statePolicies[\"id\"][i]\n",
    "                }\n",
    "            }\n",
    "        )\n",
    "        allStateVersions = pd.json_normalize(allStateVersions)\n",
    "        DFtimeFormat(allStateVersions, \"versionDate\")\n",
    "        relevantPolicyFound = False\n",
    "        for ind in allStateVersions.index:\n",
    "            if allStateVersions[\"versionDate\"][ind] < Q2END:\n",
    "                data = [allStateVersions[col][ind] for col in newColumns]\n",
    "                data.append(allStateVersions[\"versionDate\"][ind])\n",
    "                relevantPolicyFound = True\n",
    "                break\n",
    "        if not relevantPolicyFound:\n",
    "            raise \n",
    "    except:\n",
    "        data = [statePolicies[col][i] for col in newColumns]\n",
    "        data.append(statePolicies[\"lastSavedTimestamp\"][i])\n",
    "    data.append(statePolicies[\"Q2GDPChange\"][i])\n",
    "    relevantPolicies.append(data)\n",
    "relevantPolicies = pd.DataFrame(relevantPolicies, columns = newColumns + [\"versionDate\", \"Q2GDPChange\"])"
   ]
  },
  {
   "cell_type": "code",
   "execution_count": null,
   "metadata": {
    "collapsed": true
   },
   "outputs": [],
   "source": [
    "xVars = ['easingOrder', 'stayAtHome', 'mandatoryQuarantine', 'nonEssentialBusiness', 'largeGatherings', \n",
    "         'schoolClosure', 'restaurantLimit', 'barClosures', 'faceCoveringRequirement']"
   ]
  },
  {
   "cell_type": "code",
   "execution_count": null,
   "metadata": {
    "collapsed": true
   },
   "outputs": [],
   "source": [
    "# quantify statePolicies\n",
    "for col in statePolicies.columns:\n",
    "    mper = mapperGenerator(col)\n",
    "    statePolicies[col] = statePolicies[col].apply(mper)"
   ]
  },
  {
   "cell_type": "code",
   "execution_count": null,
   "metadata": {},
   "outputs": [],
   "source": [
    "statePolicies[xVars].head()"
   ]
  },
  {
   "cell_type": "code",
   "execution_count": null,
   "metadata": {},
   "outputs": [],
   "source": [
    "X = statePolicies[xVars]\n",
    "Y = statePolicies[\"Q2GDPChange\"]\n",
    "regr = linear_model.LinearRegression()\n",
    "regr.fit(X, Y)\n",
    "for i in range(len(xVars)):\n",
    "    print(\"Coefficient of \", xVars[i], \": \", regr.coef_[i])\n",
    "print(\"Intercept: \", regr.intercept_)\n",
    "print(\"R^2: \", regr.score(X, Y))"
   ]
  },
  {
   "cell_type": "code",
   "execution_count": null,
   "metadata": {
    "collapsed": true
   },
   "outputs": [],
   "source": [
    "# quantify relevantPolicies\n",
    "for col in relevantPolicies.columns:\n",
    "    mper = mapperGenerator(col)\n",
    "    relevantPolicies[col] = relevantPolicies[col].apply(mper)"
   ]
  },
  {
   "cell_type": "code",
   "execution_count": null,
   "metadata": {},
   "outputs": [],
   "source": [
    "relevantX = relevantPolicies[xVars]\n",
    "relevantY = relevantPolicies[\"Q2GDPChange\"]\n",
    "relevantRegr = linear_model.LinearRegression()\n",
    "relevantRegr.fit(relevantX, relevantY)\n",
    "for i in range(len(xVars)):\n",
    "    print(\"Coefficient of \", xVars[i], \": \", relevantRegr.coef_[i])\n",
    "print(\"Intercept: \", relevantRegr.intercept_)\n",
    "print(\"R^2: \", relevantRegr.score(relevantX, relevantY))"
   ]
  },
  {
   "cell_type": "code",
   "execution_count": null,
   "metadata": {
    "scrolled": true
   },
   "outputs": [],
   "source": [
    "N = len(relevantX)\n",
    "train_test_split = 0.9\n",
    "X_train = relevantX[:math.floor(N*train_test_split)]\n",
    "X_test = relevantX[math.floor(N*train_test_split):]\n",
    "Y_train = relevantY[:math.floor(N*train_test_split)]\n",
    "Y_test = relevantY[math.floor(N*train_test_split):]\n",
    "\n",
    "model = linear_model.Ridge(alpha=1e-2).fit(X_train, Y_train)\n",
    "model.score(X_test, Y_test)"
   ]
  },
  {
   "cell_type": "code",
   "execution_count": null,
   "metadata": {},
   "outputs": [],
   "source": [
    "from sklearn.linear_model import LinearRegression\n",
    "from sklearn.preprocessing import PolynomialFeatures\n",
    "\n",
    "poly_reg = PolynomialFeatures(degree=2)\n",
    "poly_x_inliers = poly_reg.fit_transform(x_inliers)\n",
    "\n",
    "regressor = LinearRegression()\n",
    "regressor.fit(poly_x_inliers, y_inliers)\n",
    "\n",
    "reg_label = \"Inliers coef:%s - b:%0.2f\" % \\\n",
    "            (np.array2string(regressor.coef_,\n",
    "                             formatter={'float_kind': lambda fk: \"%.3f\" % fk}),\n",
    "            regressor.intercept_)\n",
    "\n",
    "print(reg_label)"
   ]
  },
  {
   "cell_type": "code",
   "execution_count": null,
   "metadata": {},
   "outputs": [],
   "source": [
    "from sklearn.inspection import permutation_importance\n",
    "r = permutation_importance(model, X_test, Y_test, n_repeats=30, random_state=0)\n",
    "\n",
    "for i in range(len(r.importances_mean)):\n",
    "    print(r.importances_mean[i], r.importances_std[i])"
   ]
  },
  {
   "cell_type": "code",
   "execution_count": null,
   "metadata": {
    "collapsed": true
   },
   "outputs": [],
   "source": [
    "def addRestrictMeasure(df, varsToUse):\n",
    "    sums = [sum([df[var][i] for var in varsToUse]) for i in df.index]\n",
    "    df.insert(loc = len(df.columns), column = \"restrictivenessMeasure\", value = sums)            "
   ]
  },
  {
   "cell_type": "code",
   "execution_count": null,
   "metadata": {
    "collapsed": true
   },
   "outputs": [],
   "source": [
    "addRestrictMeasure(statePolicies, xVars)"
   ]
  },
  {
   "cell_type": "code",
   "execution_count": null,
   "metadata": {},
   "outputs": [],
   "source": [
    "plt.scatter(statePolicies[\"restrictivenessMeasure\"], statePolicies[\"Q2GDPChange\"])\n",
    "plt.show()"
   ]
  },
  {
   "cell_type": "code",
   "execution_count": null,
   "metadata": {
    "scrolled": true
   },
   "outputs": [],
   "source": [
    "aggrRegr = linear_model.LinearRegression()\n",
    "restricMeasures = statePolicies[[\"restrictivenessMeasure\"]]\n",
    "Y = statePolicies[\"Q2GDPChange\"]\n",
    "aggrRegr.fit(restricMeasures, Y)"
   ]
  },
  {
   "cell_type": "code",
   "execution_count": null,
   "metadata": {},
   "outputs": [],
   "source": [
    "print(\"Coefficient of restrictivenessMeasure: \", aggrRegr.coef_[0])\n",
    "print(\"Intercept: \", aggrRegr.intercept_)\n",
    "print(\"R^2: \", aggrRegr.intercept_)"
   ]
  },
  {
   "cell_type": "code",
   "execution_count": null,
   "metadata": {
    "collapsed": true
   },
   "outputs": [],
   "source": [
    "addRestrictMeasure(relevantPolicies, xVars)"
   ]
  },
  {
   "cell_type": "code",
   "execution_count": null,
   "metadata": {},
   "outputs": [],
   "source": [
    "plt.scatter(relevantPolicies[\"restrictivenessMeasure\"], relevantPolicies[\"Q2GDPChange\"])\n",
    "plt.show()"
   ]
  },
  {
   "cell_type": "code",
   "execution_count": null,
   "metadata": {},
   "outputs": [],
   "source": [
    "relAggrRegr = linear_model.LinearRegression()\n",
    "relRestrMeas = relevantPolicies[[\"restrictivenessMeasure\"]]\n",
    "Y = statePolicies[\"Q2GDPChange\"]\n",
    "relAggrRegr.fit(relRestrMeas, Y)"
   ]
  },
  {
   "cell_type": "code",
   "execution_count": null,
   "metadata": {},
   "outputs": [],
   "source": [
    "print(\"Coefficient of restrictivenessMeasure: \", relAggrRegr.coef_[0])\n",
    "print(\"Intercept: \", relAggrRegr.intercept_)\n",
    "print(\"R^2: \", relAggrRegr.intercept_)"
   ]
  }
 ],
 "metadata": {
  "colab": {
   "collapsed_sections": [],
   "name": "Sora_Rithwik_Tyler.ipynb",
   "private_outputs": true,
   "provenance": [],
   "toc_visible": true
  },
  "kernelspec": {
   "display_name": "Python 3",
   "language": "python",
   "name": "python3"
  },
  "language_info": {
   "codemirror_mode": {
    "name": "ipython",
    "version": 3
   },
   "file_extension": ".py",
   "mimetype": "text/x-python",
   "name": "python",
   "nbconvert_exporter": "python",
   "pygments_lexer": "ipython3",
   "version": "3.6.1"
  }
 },
 "nbformat": 4,
 "nbformat_minor": 4
}
